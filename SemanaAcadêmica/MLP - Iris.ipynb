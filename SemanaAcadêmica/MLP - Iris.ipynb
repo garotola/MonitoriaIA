{
 "cells": [
  {
   "cell_type": "code",
   "execution_count": 152,
   "metadata": {},
   "outputs": [
    {
     "name": "stdout",
     "output_type": "stream",
     "text": [
      "Base de dados com 150 linhas\n"
     ]
    }
   ],
   "source": [
    "import numpy as np\n",
    "import pandas as pd\n",
    "\n",
    "# Importar os dados\n",
    "url = 'https://gist.githubusercontent.com/netj/8836201/raw/6f9306ad21398ea43cba4f7d537619d0e07d5ae3/iris.csv'\n",
    "df = pd.read_csv(url)\n",
    "print(f\"Base de dados com {len(df)} linhas\")"
   ]
  },
  {
   "cell_type": "code",
   "execution_count": 153,
   "metadata": {},
   "outputs": [
    {
     "data": {
      "text/plain": [
       "0      0.0\n",
       "1      0.0\n",
       "2      0.0\n",
       "3      0.0\n",
       "4      0.0\n",
       "      ... \n",
       "145    2.0\n",
       "146    2.0\n",
       "147    2.0\n",
       "148    2.0\n",
       "149    2.0\n",
       "Name: variety, Length: 150, dtype: float64"
      ]
     },
     "execution_count": 153,
     "metadata": {},
     "output_type": "execute_result"
    }
   ],
   "source": [
    "# Alterando dados categóricos para numéricos\n",
    "df['variety'] = df['variety'].replace('Setosa', 0.0)\n",
    "df['variety'] = df['variety'].replace('Versicolor', 1.0)\n",
    "df['variety'] = df['variety'].replace('Virginica', 2.0)\n",
    "df['variety']"
   ]
  },
  {
   "cell_type": "code",
   "execution_count": 154,
   "metadata": {},
   "outputs": [],
   "source": [
    "# Principio do Aprendizado de Maquina Supervisionado\n",
    "data = df.drop('variety', axis=1) # Dados\n",
    "labels = df['variety'] # Labels"
   ]
  },
  {
   "cell_type": "code",
   "execution_count": 155,
   "metadata": {},
   "outputs": [],
   "source": [
    "# Convertendo para array\n",
    "data = data.values\n",
    "labels = labels.values"
   ]
  },
  {
   "cell_type": "code",
   "execution_count": 156,
   "metadata": {},
   "outputs": [
    {
     "name": "stdout",
     "output_type": "stream",
     "text": [
      "Quantidade de Dados para Treinamento : 120\n",
      "Quantidade de Dados para Teste : 30\n"
     ]
    }
   ],
   "source": [
    "# Dividindo dados para o processo de treino, teste e validação\n",
    "from sklearn.model_selection import train_test_split\n",
    "data_train, data_test, labels_train, labels_test = train_test_split(data, labels, test_size=0.2, random_state=41)\n",
    "print(f'Quantidade de Dados para Treinamento : {len(data_train)}')\n",
    "print(f'Quantidade de Dados para Teste : {len(data_test)}')"
   ]
  },
  {
   "cell_type": "code",
   "execution_count": 157,
   "metadata": {},
   "outputs": [],
   "source": [
    "import torch\n",
    "data_train = torch.FloatTensor(data_train)\n",
    "data_test = torch.FloatTensor(data_test)\n",
    "labels_train = torch.LongTensor(labels_train)\n",
    "labels_test = torch.LongTensor(labels_test)"
   ]
  },
  {
   "cell_type": "code",
   "execution_count": 158,
   "metadata": {},
   "outputs": [],
   "source": [
    "# Importação das Bibliotecas \n",
    "import torch.nn as nn\n",
    "\n",
    "# Criação do Modelo de Rede\n",
    "    # 4 Entradas (4 Caracteristicas da Flor)\n",
    "    # 2 Camadas de Neuronio\n",
    "    # 3 Saidas (3 Rotulos de Flor)\n",
    "class IrisClassifier(nn.Module) :\n",
    "    def __init__(self, input_size = 4, hidden_size1=8, hidden_size2 = 9, output_size = 3) :\n",
    "        super().__init__()\n",
    "        self.fc1 = nn.Linear(input_size, hidden_size1)\n",
    "        self.fc2 = nn.Linear(hidden_size1, hidden_size2)\n",
    "        self.output = nn.Linear(hidden_size2, output_size)\n",
    "        self.relu = nn.ReLU()\n",
    "    \n",
    "    def forward(self, data) :\n",
    "        data = self.relu(self.fc1(data))\n",
    "        data = self.relu(self.fc2(data))\n",
    "        data = self.output(data)\n",
    "        return data\n"
   ]
  },
  {
   "cell_type": "code",
   "execution_count": 159,
   "metadata": {},
   "outputs": [],
   "source": [
    "classificadorMonstro = IrisClassifier() "
   ]
  },
  {
   "cell_type": "code",
   "execution_count": 160,
   "metadata": {},
   "outputs": [],
   "source": [
    "# Otimizador e Função de calculo de erro\n",
    "learning_rate = 0.01\n",
    "criterion = nn.CrossEntropyLoss()\n",
    "optimizer = torch.optim.Adam(classificadorMonstro.parameters(), lr=learning_rate)"
   ]
  },
  {
   "cell_type": "code",
   "execution_count": 161,
   "metadata": {},
   "outputs": [],
   "source": [
    "def train_network(model, optimizer, criterion, data_train, labels_train, data_test, labels_test, num_epochs, train_losses, test_losses) :\n",
    "    for i in range(num_epochs) :\n",
    "        optimizer.zero_grad()\n",
    "\n",
    "        label_train = model.forward(data_train) # Pegando a previsão\n",
    "        loss_train = criterion(label_train, labels_train)\n",
    "        loss_train.backward()\n",
    "        optimizer.step()\n",
    "        \n",
    "        label_test = model(data_test)\n",
    "        loss_test = criterion(label_test, labels_test)\n",
    "        \n",
    "        train_losses.append(loss_train.detach().numpy())\n",
    "        test_losses.append(loss_test.detach().numpy())\n",
    "\n",
    "        if i%10 == 0 :\n",
    "            print(f'Época {i}, Erro de Treinamento : {loss_train}, Erro de Teste : {loss_test}')\n"
   ]
  },
  {
   "cell_type": "code",
   "execution_count": 162,
   "metadata": {},
   "outputs": [],
   "source": [
    "num_epochs = 100\n",
    "train_losses = []\n",
    "test_losses = []"
   ]
  },
  {
   "cell_type": "code",
   "execution_count": 163,
   "metadata": {},
   "outputs": [
    {
     "name": "stdout",
     "output_type": "stream",
     "text": [
      "Época 0, Erro de Treinamento : 1.1416585445404053, Erro de Teste : 1.0818800926208496\n",
      "Época 10, Erro de Treinamento : 0.8397966027259827, Erro de Teste : 0.834801971912384\n",
      "Época 20, Erro de Treinamento : 0.5490145087242126, Erro de Teste : 0.578971803188324\n",
      "Época 30, Erro de Treinamento : 0.4171038866043091, Erro de Teste : 0.445541650056839\n",
      "Época 40, Erro de Treinamento : 0.2967590093612671, Erro de Teste : 0.3265606164932251\n",
      "Época 50, Erro de Treinamento : 0.16467151045799255, Erro de Teste : 0.21072858572006226\n",
      "Época 60, Erro de Treinamento : 0.09603984653949738, Erro de Teste : 0.1666921228170395\n",
      "Época 70, Erro de Treinamento : 0.06603780388832092, Erro de Teste : 0.1575039029121399\n",
      "Época 80, Erro de Treinamento : 0.05131181702017784, Erro de Teste : 0.1570272594690323\n",
      "Época 90, Erro de Treinamento : 0.042548876255750656, Erro de Teste : 0.15794916450977325\n"
     ]
    }
   ],
   "source": [
    "train_network(classificadorMonstro, optimizer, criterion, data_train, labels_train, data_test, labels_test, num_epochs, train_losses, test_losses)"
   ]
  },
  {
   "cell_type": "code",
   "execution_count": 164,
   "metadata": {},
   "outputs": [
    {
     "data": {
      "image/png": "[encoded data removed]",
      "text/plain": [
       "<Figure size 1000x1000 with 1 Axes>"
      ]
     },
     "metadata": {},
     "output_type": "display_data"
    }
   ],
   "source": [
    "import matplotlib.pyplot as plt\n",
    "\n",
    "plt.figure(figsize=(10,10))\n",
    "plt.plot(train_losses, label='Erro de Treinamento')\n",
    "plt.plot(test_losses, label='Erro de Teste')\n",
    "plt.legend()\n",
    "plt.show()"
   ]
  },
  {
   "cell_type": "code",
   "execution_count": 210,
   "metadata": {},
   "outputs": [
    {
     "name": "stdout",
     "output_type": "stream",
     "text": [
      "Resultado Calculado : Versicolor\n",
      "Resultado Esperado : Versicolor\n"
     ]
    }
   ],
   "source": [
    "# Teste próprio\n",
    "\n",
    "import operator\n",
    "data_testp = torch.FloatTensor(data_test[13])\n",
    "label_testp = torch.LongTensor(labels_test[13])\n",
    "output = classificadorMonstro(data_testp)\n",
    "\n",
    "logits = torch.nn.functional.softmax(output, dim=-1) * 100\n",
    "categories = ['Setosa','Versicolor', 'Virginica']\n",
    "prob_dict = {}\n",
    "\n",
    "\n",
    "\n",
    "for i, classname in enumerate(categories):\n",
    "  prob = logits[i]\n",
    "  prob_dict[classname] = [prob]\n",
    "\n",
    "result = max(prob_dict.items(), key=operator.itemgetter(1))\n",
    "print(f'Resultado Calculado : {result[0]}')\n",
    "print(f'Resultado Esperado : {categories[label_testp]}')\n",
    "\n"
   ]
  }
 ],
 "metadata": {
  "kernelspec": {
   "display_name": "Python 3",
   "language": "python",
   "name": "python3"
  },
  "language_info": {
   "codemirror_mode": {
    "name": "ipython",
    "version": 3
   },
   "file_extension": ".py",
   "mimetype": "text/x-python",
   "name": "python",
   "nbconvert_exporter": "python",
   "pygments_lexer": "ipython3",
   "version": "3.11.1"
  }
 },
 "nbformat": 4,
 "nbformat_minor": 2
}
