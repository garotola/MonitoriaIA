{
 "cells": [
  {
   "cell_type": "code",
   "execution_count": 31,
   "metadata": {},
   "outputs": [
    {
     "name": "stdout",
     "output_type": "stream",
     "text": [
      "Base de dados com 150 linhas\n"
     ]
    }
   ],
   "source": [
    "import numpy as np\n",
    "import pandas as pd\n",
    "\n",
    "# Importar os dados\n",
    "url = 'https://gist.githubusercontent.com/netj/8836201/raw/6f9306ad21398ea43cba4f7d537619d0e07d5ae3/iris.csv'\n",
    "df = pd.read_csv(url)\n",
    "print(f\"Base de dados com {len(df)} linhas\")"
   ]
  },
  {
   "cell_type": "code",
   "execution_count": 32,
   "metadata": {},
   "outputs": [
    {
     "data": {
      "text/plain": [
       "0      0.0\n",
       "1      0.0\n",
       "2      0.0\n",
       "3      0.0\n",
       "4      0.0\n",
       "      ... \n",
       "145    2.0\n",
       "146    2.0\n",
       "147    2.0\n",
       "148    2.0\n",
       "149    2.0\n",
       "Name: variety, Length: 150, dtype: float64"
      ]
     },
     "execution_count": 32,
     "metadata": {},
     "output_type": "execute_result"
    }
   ],
   "source": [
    "# Alterando dados categóricos para numéricos\n",
    "df['variety'] = df['variety'].replace('Setosa', 0.0)\n",
    "df['variety'] = df['variety'].replace('Versicolor', 1.0)\n",
    "df['variety'] = df['variety'].replace('Virginica', 2.0)\n",
    "df['variety']"
   ]
  },
  {
   "cell_type": "code",
   "execution_count": 33,
   "metadata": {},
   "outputs": [],
   "source": [
    "# Principio do Aprendizado de Maquina Supervisionado\n",
    "data = df.drop('variety', axis=1) # Dados\n",
    "labels = df['variety'] # Labels"
   ]
  },
  {
   "cell_type": "code",
   "execution_count": 34,
   "metadata": {},
   "outputs": [],
   "source": [
    "# Convertendo para array\n",
    "data = data.values\n",
    "labels = labels.values"
   ]
  },
  {
   "cell_type": "code",
   "execution_count": 35,
   "metadata": {},
   "outputs": [
    {
     "name": "stdout",
     "output_type": "stream",
     "text": [
      "Quantidade de Dados para Treinamento : 120\n",
      "Quantidade de Dados para Teste : 30\n"
     ]
    }
   ],
   "source": [
    "# Dividindo dados para o processo de treino, teste e validação\n",
    "from sklearn.model_selection import train_test_split\n",
    "data_train, data_test, labels_train, labels_test = train_test_split(data, labels, test_size=0.2, random_state=41)\n",
    "print(f'Quantidade de Dados para Treinamento : {len(data_train)}')\n",
    "print(f'Quantidade de Dados para Teste : {len(data_test)}')"
   ]
  },
  {
   "cell_type": "code",
   "execution_count": 36,
   "metadata": {},
   "outputs": [],
   "source": [
    "import torch\n",
    "data_train = torch.FloatTensor(data_train)\n",
    "data_test = torch.FloatTensor(data_test)\n",
    "labels_train = torch.LongTensor(labels_train)\n",
    "labels_test = torch.LongTensor(labels_test)"
   ]
  },
  {
   "cell_type": "code",
   "execution_count": 37,
   "metadata": {},
   "outputs": [],
   "source": [
    "# Importação das Bibliotecas \n",
    "import torch.nn as nn\n",
    "\n",
    "# Criação do Modelo de Rede\n",
    "    # 4 Entradas (4 Caracteristicas da Flor)\n",
    "    # 2 Camadas de Neuronio\n",
    "    # 3 Saidas (3 Rotulos de Flor)\n",
    "class IrisClassifier(nn.Module) :\n",
    "    def __init__(self, input_size = 4, hidden_size1=128, hidden_size2 = 64, output_size = 3) :\n",
    "        super().__init__()\n",
    "        self.fc1 = nn.Linear(input_size, hidden_size1)\n",
    "        self.fc2 = nn.Linear(hidden_size1, hidden_size2)\n",
    "        self.output = nn.Linear(hidden_size2, output_size)\n",
    "        self.relu = nn.ReLU()\n",
    "    \n",
    "    def forward(self, data) :\n",
    "        data = self.relu(self.fc1(data))\n",
    "        data = self.relu(self.fc2(data))\n",
    "        data = self.output(data)\n",
    "        return data\n"
   ]
  },
  {
   "cell_type": "code",
   "execution_count": 38,
   "metadata": {},
   "outputs": [],
   "source": [
    "classificadorMonstro = IrisClassifier() "
   ]
  },
  {
   "cell_type": "code",
   "execution_count": 39,
   "metadata": {},
   "outputs": [],
   "source": [
    "# Otimizador e Função de calculo de erro\n",
    "learning_rate = 0.01\n",
    "criterion = nn.CrossEntropyLoss()\n",
    "optimizer = torch.optim.Adam(classificadorMonstro.parameters(), lr=learning_rate)"
   ]
  },
  {
   "cell_type": "code",
   "execution_count": 40,
   "metadata": {},
   "outputs": [],
   "source": [
    "def train_network(model, optimizer, criterion, data_train, labels_train, data_test, labels_test, num_epochs, train_losses, test_losses) :\n",
    "    for i in range(num_epochs) :\n",
    "        optimizer.zero_grad()\n",
    "\n",
    "        label_train = model.forward(data_train) # Pegando a previsão\n",
    "        loss_train = criterion(label_train, labels_train)\n",
    "        loss_train.backward()\n",
    "        optimizer.step()\n",
    "        \n",
    "        label_test = model(data_test)\n",
    "        loss_test = criterion(label_test, labels_test)\n",
    "        \n",
    "        train_losses.append(loss_train.detach().numpy())\n",
    "        test_losses.append(loss_test.detach().numpy())\n",
    "\n",
    "        if i%5 == 0 :\n",
    "            print(f'Época {i}, Erro de Treinamento : {loss_train}, Erro de Validação : {loss_test}')\n"
   ]
  },
  {
   "cell_type": "code",
   "execution_count": 41,
   "metadata": {},
   "outputs": [],
   "source": [
    "num_epochs = 25\n",
    "train_losses = []\n",
    "test_losses = []"
   ]
  },
  {
   "cell_type": "code",
   "execution_count": 42,
   "metadata": {},
   "outputs": [
    {
     "name": "stdout",
     "output_type": "stream",
     "text": [
      "Época 0, Erro de Treinamento : 1.1395002603530884, Erro de Validação : 1.5862339735031128\n",
      "Época 5, Erro de Treinamento : 0.7067789435386658, Erro de Validação : 0.6514652371406555\n",
      "Época 10, Erro de Treinamento : 0.4028768539428711, Erro de Validação : 0.40664052963256836\n",
      "Época 15, Erro de Treinamento : 0.23821355402469635, Erro de Validação : 0.2553582191467285\n",
      "Época 20, Erro de Treinamento : 0.11785011738538742, Erro de Validação : 0.16148337721824646\n"
     ]
    }
   ],
   "source": [
    "train_network(classificadorMonstro, optimizer, criterion, data_train, labels_train, data_test, labels_test, num_epochs, train_losses, test_losses)"
   ]
  },
  {
   "cell_type": "code",
   "execution_count": 43,
   "metadata": {},
   "outputs": [
    {
     "data": {
      "image/png": "[encoded data removed]",
      "text/plain": [
       "<Figure size 1000x1000 with 1 Axes>"
      ]
     },
     "metadata": {},
     "output_type": "display_data"
    }
   ],
   "source": [
    "import matplotlib.pyplot as plt\n",
    "\n",
    "plt.figure(figsize=(10,10))\n",
    "plt.plot(train_losses, label='Erro de Treinamento')\n",
    "plt.plot(test_losses, label='Erro de Teste')\n",
    "plt.legend()\n",
    "plt.show()"
   ]
  },
  {
   "cell_type": "code",
   "execution_count": 44,
   "metadata": {},
   "outputs": [
    {
     "name": "stdout",
     "output_type": "stream",
     "text": [
      "Resultado Calculado : Virginica\n",
      "Resultado Esperado : Virginica\n"
     ]
    }
   ],
   "source": [
    "# Teste próprio\n",
    "\n",
    "import operator\n",
    "data_testp = torch.FloatTensor(data_test[0])\n",
    "label_testp = torch.LongTensor(labels_test[0])\n",
    "output = classificadorMonstro(data_testp)\n",
    "\n",
    "logits = torch.nn.functional.softmax(output, dim=-1) * 100\n",
    "categories = ['Setosa','Versicolor', 'Virginica']\n",
    "prob_dict = {}\n",
    "\n",
    "for i, classname in enumerate(categories):\n",
    "  prob = logits[i]\n",
    "  prob_dict[classname] = [prob]\n",
    "\n",
    "result = max(prob_dict.items(), key=operator.itemgetter(1))\n",
    "print(f'Resultado Calculado : {result[0]}')\n",
    "print(f'Resultado Esperado : {categories[label_testp]}')\n",
    "\n"
   ]
  },
  {
   "cell_type": "code",
   "execution_count": 46,
   "metadata": {},
   "outputs": [],
   "source": [
    "from sklearn.metrics import confusion_matrix\n",
    "from sklearn.metrics import multilabel_confusion_matrix\n",
    "from sklearn.metrics import precision_score, recall_score, f1_score, accuracy_score\n",
    "from sklearn.metrics import precision_recall_fscore_support\n",
    "from sklearn.metrics import classification_report"
   ]
  },
  {
   "cell_type": "code",
   "execution_count": 47,
   "metadata": {},
   "outputs": [
    {
     "name": "stdout",
     "output_type": "stream",
     "text": [
      "----- Matriz de Confusão - Dados de Teste -----\n"
     ]
    },
    {
     "data": {
      "text/plain": [
       "array([[ 9,  0,  0],\n",
       "       [ 0, 10,  1],\n",
       "       [ 0,  0, 10]], dtype=int64)"
      ]
     },
     "execution_count": 47,
     "metadata": {},
     "output_type": "execute_result"
    }
   ],
   "source": [
    "class_predict_onehot = classificadorMonstro(data_test)\n",
    "class_predict = class_predict_onehot.argmax(axis=1)\n",
    "confusion_matriz = confusion_matrix(labels_test, class_predict, labels=range(3))\n",
    "print(\"----- Matriz de Confusão - Dados de Teste -----\")\n",
    "confusion_matriz"
   ]
  },
  {
   "cell_type": "code",
   "execution_count": 48,
   "metadata": {},
   "outputs": [
    {
     "name": "stdout",
     "output_type": "stream",
     "text": [
      "-----Métricas no Geral------\n",
      "Precisão :  0.9696969696969696\n",
      "Revocação :  0.9666666666666667\n",
      "F1 - Score:  0.9666666666666667\n",
      "Acurácia :  0.9666666666666667\n"
     ]
    }
   ],
   "source": [
    "precision = precision_score(labels_test, class_predict, average='weighted', zero_division=1)\n",
    "recall_score = recall_score(labels_test, class_predict, average='weighted', zero_division=1)\n",
    "f1_score = f1_score(labels_test, class_predict, average='weighted', zero_division=1)\n",
    "accuracy_score = accuracy_score(labels_test, class_predict)\n",
    "\n",
    "print(\"-----Métricas no Geral------\")\n",
    "print(\"Precisão : \", precision)\n",
    "print(\"Revocação : \",  recall_score)\n",
    "print(\"F1 - Score: \", f1_score)\n",
    "print(\"Acurácia : \", accuracy_score)"
   ]
  },
  {
   "cell_type": "code",
   "execution_count": 49,
   "metadata": {},
   "outputs": [
    {
     "name": "stdout",
     "output_type": "stream",
     "text": [
      "-------Métricas para cada classe-------\n",
      "Acurácia :  [1.         0.90909091 1.        ]\n",
      "              precision    recall  f1-score   support\n",
      "\n",
      "           0       1.00      1.00      1.00         9\n",
      "           1       1.00      0.91      0.95        11\n",
      "           2       0.91      1.00      0.95        10\n",
      "\n",
      "    accuracy                           0.97        30\n",
      "   macro avg       0.97      0.97      0.97        30\n",
      "weighted avg       0.97      0.97      0.97        30\n",
      "\n"
     ]
    }
   ],
   "source": [
    "precision, recall_score, f1_score, support = precision_recall_fscore_support(labels_test, class_predict, zero_division=1)\n",
    "\n",
    "print(\"-------Métricas para cada classe-------\")\n",
    "confusion_matriz = confusion_matriz.astype('float') / confusion_matriz.sum(axis=1)[:, np.newaxis]\n",
    "accuracy_score = confusion_matriz.diagonal()\n",
    "\n",
    "\n",
    "print(\"Acurácia : \", accuracy_score)\n",
    "\n",
    "print(classification_report(labels_test, class_predict, zero_division=1))"
   ]
  }
 ],
 "metadata": {
  "kernelspec": {
   "display_name": "Python 3",
   "language": "python",
   "name": "python3"
  },
  "language_info": {
   "codemirror_mode": {
    "name": "ipython",
    "version": 3
   },
   "file_extension": ".py",
   "mimetype": "text/x-python",
   "name": "python",
   "nbconvert_exporter": "python",
   "pygments_lexer": "ipython3",
   "version": "3.11.1"
  }
 },
 "nbformat": 4,
 "nbformat_minor": 2
}
