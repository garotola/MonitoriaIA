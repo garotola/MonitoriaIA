{
 "cells": [
  {
   "cell_type": "markdown",
   "metadata": {},
   "source": [
    "# Wine\n",
    "Usando análise química para determinar a origem dos vinhos\n",
    "\n",
    "Classificação\n",
    "## Dados\n",
    "Estes dados são o resultado de uma análise química de vinhos cultivados na mesma região da Itália, mas derivados de três cultivares diferentes. A análise determinou as quantidades de 13 constituintes encontrados em cada um dos três tipos de vinhos."
   ]
  },
  {
   "cell_type": "code",
   "execution_count": 18,
   "metadata": {},
   "outputs": [],
   "source": [
    "# Importando Bibliotecas para o projeto\n",
    "import pandas as pd\n",
    "import matplotlib.pyplot as plt\n",
    "import numpy as np\n",
    "from sklearn.model_selection import train_test_split\n",
    "import torch\n",
    "import torch.nn as nn"
   ]
  },
  {
   "cell_type": "code",
   "execution_count": 19,
   "metadata": {},
   "outputs": [],
   "source": [
    "# Modelo de Rede Neural MLP\n",
    "class WineClassifier(nn.Module) :\n",
    "    def __init__(self, input_size = 13, hidden_size1=130, hidden_size2 = 70, hidden_size3 = 40, hidden_size4=13, output_size = 3) :\n",
    "        super().__init__()\n",
    "        self.fc1 = nn.Linear(input_size, hidden_size1)\n",
    "        self.fc2 = nn.Linear(hidden_size1, hidden_size2)\n",
    "        self.fc3 = nn.Linear(hidden_size2, hidden_size3)\n",
    "        self.fc4 = nn.Linear(hidden_size3, hidden_size4)\n",
    "        self.output = nn.Linear(hidden_size4, output_size)\n",
    "        self.relu = nn.ReLU()\n",
    "\n",
    "    def forward(self, data) :\n",
    "        data = self.relu(self.fc1(data))\n",
    "        data = self.relu(self.fc2(data))\n",
    "        data = self.relu(self.fc3(data))\n",
    "        data = self.relu(self.fc4(data))\n",
    "        data = self.output(data)\n",
    "        return data\n"
   ]
  },
  {
   "cell_type": "code",
   "execution_count": 20,
   "metadata": {},
   "outputs": [],
   "source": [
    "# Introdução e Tratamento de Dados \n",
    "inputData = pd.read_csv(\"./Datasets/wine/wine.data\")\n",
    "data = inputData[inputData.columns[1:]].to_numpy()\n",
    "labelsTemp = inputData[inputData.columns[0]].to_numpy()\n",
    "labels = []\n",
    "for i in range(len(labelsTemp)):\n",
    "    labels.append(labelsTemp[i] - 1)\n",
    "\n",
    "\n",
    "data_train, data_test, labels_train, labels_test = train_test_split(data, labels, test_size=0.2, shuffle=True, random_state=41)"
   ]
  },
  {
   "cell_type": "code",
   "execution_count": 21,
   "metadata": {},
   "outputs": [
    {
     "name": "stdout",
     "output_type": "stream",
     "text": [
      "Dados para Treino :  141\n",
      "Dados para Teste :  36\n"
     ]
    },
    {
     "data": {
      "text/plain": [
       "tensor([0, 1, 2, 2, 0, 1, 1, 2, 0, 2, 0, 1, 1, 0, 1, 0, 2, 0, 2, 1, 2, 0, 1, 1,\n",
       "        2, 0, 1, 0, 1, 2, 0, 0, 0, 1, 2, 0, 0, 1, 0, 2, 1, 1, 0, 0, 1, 0, 1, 1,\n",
       "        2, 1, 0, 0, 1, 0, 1, 1, 0, 1, 0, 2, 1, 1, 0, 0, 1, 1, 1, 1, 0, 2, 1, 1,\n",
       "        0, 1, 0, 0, 1, 2, 0, 0, 0, 1, 0, 1, 0, 2, 0, 0, 2, 1, 2, 1, 0, 2, 0, 0,\n",
       "        2, 1, 1, 2, 1, 1, 1, 2, 1, 1, 0, 0, 1, 2, 1, 0, 2, 1, 0, 1, 2, 1, 0, 2,\n",
       "        2, 0, 0, 0, 1, 2, 1, 1, 1, 1, 1, 2, 2, 1, 0, 2, 1, 1, 1, 2, 2])"
      ]
     },
     "execution_count": 21,
     "metadata": {},
     "output_type": "execute_result"
    }
   ],
   "source": [
    "# Verificando os dados\n",
    "data_train = torch.FloatTensor(data_train)\n",
    "data_test = torch.FloatTensor(data_test)\n",
    "labels_train = torch.LongTensor(labels_train)\n",
    "labels_test = torch.LongTensor(labels_test)\n",
    "\n",
    "print(\"Dados para Treino : \", len(data_train))\n",
    "print(\"Dados para Teste : \", len(data_test))\n",
    "\n",
    "labels_train\n"
   ]
  },
  {
   "cell_type": "code",
   "execution_count": 22,
   "metadata": {},
   "outputs": [],
   "source": [
    "classificadorMonstro = WineClassifier()\n",
    "learning_rate = 0.01\n",
    "criterion = nn.CrossEntropyLoss()\n",
    "optimizer = torch.optim.Adam(classificadorMonstro.parameters(), lr=learning_rate)"
   ]
  },
  {
   "cell_type": "code",
   "execution_count": 23,
   "metadata": {},
   "outputs": [],
   "source": [
    "def get_accuracy_multiclass(pred_arr,original_arr):\n",
    "    if len(pred_arr)!=len(original_arr):\n",
    "        return False\n",
    "    pred_arr = pred_arr.numpy()\n",
    "    original_arr = original_arr.numpy()\n",
    "    final_pred= []\n",
    "    # we will get something like this in the pred_arr [32.1680,12.9350,-58.4877]\n",
    "    # so will be taking the index of that argument which has the highest value here 32.1680 which corresponds to 0th index\n",
    "    for i in range(len(pred_arr)):\n",
    "        final_pred.append(np.argmax(pred_arr[i]))\n",
    "    final_pred = np.array(final_pred)\n",
    "    count = 0\n",
    "    #here we are doing a simple comparison between the predicted_arr and the original_arr to get the final accuracy\n",
    "    for i in range(len(original_arr)):\n",
    "        if final_pred[i] == original_arr[i]:\n",
    "            count+=1\n",
    "    return count/len(final_pred)"
   ]
  },
  {
   "cell_type": "code",
   "execution_count": 24,
   "metadata": {},
   "outputs": [],
   "source": [
    "#Treinamento\n",
    "from sklearn.metrics import accuracy_score\n",
    "\n",
    "\n",
    "\n",
    "def train_network(model, optimizer, criterion, data_train, labels_train, data_test, labels_test, num_epochs, train_losses, test_losses) :\n",
    "    for i in range(num_epochs) :\n",
    "        optimizer.zero_grad()\n",
    "\n",
    "        label_train = model.forward(data_train) # Pegando a previsão\n",
    "        loss_train = criterion(label_train, labels_train)\n",
    "        loss_train.backward()\n",
    "        optimizer.step()\n",
    "        \n",
    "        label_test = model(data_test)\n",
    "        loss_test = criterion(label_test, labels_test)\n",
    "        \n",
    "        train_losses.append(loss_train.detach().numpy())\n",
    "        test_losses.append(loss_test.detach().numpy())\n",
    "\n",
    "        if i%10 == 0 :\n",
    "            print(f'Época {i}, Erro de Treinamento : {loss_train}, Erro de Teste : {loss_test}')"
   ]
  },
  {
   "cell_type": "code",
   "execution_count": 25,
   "metadata": {},
   "outputs": [
    {
     "name": "stdout",
     "output_type": "stream",
     "text": [
      "Época 0, Erro de Treinamento : 1.3580986261367798, Erro de Teste : 4.136260986328125\n",
      "Época 10, Erro de Treinamento : 1.372450828552246, Erro de Teste : 1.1070122718811035\n",
      "Época 20, Erro de Treinamento : 0.916034460067749, Erro de Teste : 1.1403108835220337\n",
      "Época 30, Erro de Treinamento : 0.7029805779457092, Erro de Teste : 0.7993489503860474\n",
      "Época 40, Erro de Treinamento : 0.6393494009971619, Erro de Teste : 0.6963441371917725\n",
      "Época 50, Erro de Treinamento : 0.6068542003631592, Erro de Teste : 0.6797921657562256\n",
      "Época 60, Erro de Treinamento : 0.5972697138786316, Erro de Teste : 0.692583441734314\n",
      "Época 70, Erro de Treinamento : 0.5922464728355408, Erro de Teste : 0.6992889046669006\n"
     ]
    },
    {
     "name": "stdout",
     "output_type": "stream",
     "text": [
      "Época 80, Erro de Treinamento : 0.5774232149124146, Erro de Teste : 0.6655305624008179\n",
      "Época 90, Erro de Treinamento : 0.5539829730987549, Erro de Teste : 0.6243563294410706\n",
      "Época 100, Erro de Treinamento : 0.5654603242874146, Erro de Teste : 0.6805827021598816\n",
      "Época 110, Erro de Treinamento : 0.5403012037277222, Erro de Teste : 0.6279416680335999\n",
      "Época 120, Erro de Treinamento : 0.5046680569648743, Erro de Teste : 0.5451838970184326\n",
      "Época 130, Erro de Treinamento : 0.5021650195121765, Erro de Teste : 0.46113014221191406\n",
      "Época 140, Erro de Treinamento : 0.40674251317977905, Erro de Teste : 0.4432271420955658\n",
      "Época 150, Erro de Treinamento : 0.6356314420700073, Erro de Teste : 0.286834180355072\n",
      "Época 160, Erro de Treinamento : 0.30064377188682556, Erro de Teste : 0.20351046323776245\n",
      "Época 170, Erro de Treinamento : 0.19569769501686096, Erro de Teste : 0.11129454523324966\n",
      "Época 180, Erro de Treinamento : 0.14703412353992462, Erro de Teste : 0.07129670679569244\n",
      "Época 190, Erro de Treinamento : 0.13839668035507202, Erro de Teste : 0.04456373304128647\n"
     ]
    }
   ],
   "source": [
    "num_epochs = 200\n",
    "train_losses = []\n",
    "test_losses = []\n",
    "train_network(classificadorMonstro, optimizer, criterion, data_train, labels_train, data_test, labels_test, num_epochs, train_losses, test_losses)"
   ]
  },
  {
   "cell_type": "code",
   "execution_count": 26,
   "metadata": {},
   "outputs": [
    {
     "data": {
      "image/png": "[encoded data removed]",
      "text/plain": [
       "<Figure size 1000x1000 with 1 Axes>"
      ]
     },
     "metadata": {},
     "output_type": "display_data"
    }
   ],
   "source": [
    "import matplotlib.pyplot as plt\n",
    "\n",
    "plt.figure(figsize=(10,10))\n",
    "plt.plot(train_losses, label='Erro de Treinamento')\n",
    "plt.plot(test_losses, label='Erro de Teste')\n",
    "plt.title(\"Erro por epóca\")\n",
    "plt.legend()\n",
    "plt.show()"
   ]
  },
  {
   "cell_type": "code",
   "execution_count": 27,
   "metadata": {},
   "outputs": [
    {
     "name": "stdout",
     "output_type": "stream",
     "text": [
      "Resultado Calculado : Classe 1\n",
      "Resultado Esperado : Classe 1\n"
     ]
    }
   ],
   "source": [
    "import operator\n",
    "data_testp = torch.FloatTensor(data_test[0])\n",
    "label_testp = torch.LongTensor(labels_test[0])\n",
    "output = classificadorMonstro(data_testp)\n",
    "\n",
    "logits = torch.nn.functional.softmax(output, dim=-1) * 100\n",
    "categories = ['Classe 0', 'Classe 1', 'Classe 2']\n",
    "prob_dict = {}\n",
    "\n",
    "for i, classname in enumerate(categories):\n",
    "  prob = logits[i]\n",
    "  prob_dict[classname] = prob\n",
    "\n",
    "result = max(prob_dict.items(), key=operator.itemgetter(1))\n",
    "print(f'Resultado Calculado : {result[0]}')\n",
    "print(f'Resultado Esperado : {categories[label_testp]}')"
   ]
  },
  {
   "cell_type": "code",
   "execution_count": 34,
   "metadata": {},
   "outputs": [
    {
     "name": "stdout",
     "output_type": "stream",
     "text": [
      "Training Accuracy: 95.745\n",
      "Test Accuracy: 97.222\n"
     ]
    }
   ],
   "source": [
    "predictions_train = []\n",
    "predictions_test =  []\n",
    "with torch.no_grad():\n",
    "    predictions_train = classificadorMonstro(data_train)\n",
    "    predictions_test = classificadorMonstro(data_test)\n",
    "\n",
    "train_acc = get_accuracy_multiclass(predictions_train,labels_train)\n",
    "test_acc  = get_accuracy_multiclass(predictions_test,labels_test)\n",
    "print(f\"Training Accuracy: {round(train_acc*100,3)}\")\n",
    "print(f\"Test Accuracy: {round(test_acc*100,3)}\")"
   ]
  },
  {
   "cell_type": "code",
   "execution_count": 36,
   "metadata": {},
   "outputs": [
    {
     "name": "stdout",
     "output_type": "stream",
     "text": [
      "----- Matriz de Confusão - Dados de Teste -----\n"
     ]
    },
    {
     "data": {
      "text/plain": [
       "array([[ 8,  1,  0],\n",
       "       [ 0, 12,  0],\n",
       "       [ 0,  0, 15]], dtype=int64)"
      ]
     },
     "execution_count": 36,
     "metadata": {},
     "output_type": "execute_result"
    }
   ],
   "source": [
    "# Matriz de Confusão\n",
    "from sklearn.metrics import confusion_matrix\n",
    "from sklearn.metrics import multilabel_confusion_matrix\n",
    "\n",
    "class_predict = classificadorMonstro(data_test)\n",
    "class_predict = class_predict.argmax(axis=1)\n",
    "confusion_matriz = confusion_matrix(labels_test, class_predict, labels=range(3))\n",
    "print(\"----- Matriz de Confusão - Dados de Teste -----\")\n",
    "confusion_matriz"
   ]
  },
  {
   "cell_type": "code",
   "execution_count": 30,
   "metadata": {},
   "outputs": [],
   "source": [
    "from sklearn.metrics import precision_score, recall_score, f1_score, accuracy_score\n",
    "from sklearn.metrics import precision_recall_fscore_support\n",
    "from sklearn.metrics import classification_report"
   ]
  },
  {
   "cell_type": "code",
   "execution_count": 38,
   "metadata": {},
   "outputs": [
    {
     "name": "stdout",
     "output_type": "stream",
     "text": [
      "-----Métricas no Geral------\n",
      "Precisão :  0.9743589743589745\n",
      "Revocação :  0.9722222222222222\n",
      "F1 - Score:  0.9719607843137256\n",
      "Acurácia :  0.9722222222222222\n"
     ]
    }
   ],
   "source": [
    "precision = precision_score(labels_test, class_predict, average='weighted', zero_division=1)\n",
    "recall_score = recall_score(labels_test, class_predict, average='weighted', zero_division=1)\n",
    "f1_score = f1_score(labels_test, class_predict, average='weighted', zero_division=1)\n",
    "accuracy_score = accuracy_score(labels_test, class_predict)\n",
    "\n",
    "print(\"-----Métricas no Geral------\")\n",
    "print(\"Precisão : \", precision)\n",
    "print(\"Revocação : \",  recall_score)\n",
    "print(\"F1 - Score: \", f1_score)\n",
    "print(\"Acurácia : \", accuracy_score)\n"
   ]
  },
  {
   "cell_type": "code",
   "execution_count": 39,
   "metadata": {},
   "outputs": [
    {
     "name": "stdout",
     "output_type": "stream",
     "text": [
      "-------Métricas para cada classe-------\n",
      "Acurácia :  [0.88888889 1.         1.        ]\n",
      "              precision    recall  f1-score   support\n",
      "\n",
      "           0       1.00      0.89      0.94         9\n",
      "           1       0.92      1.00      0.96        12\n",
      "           2       1.00      1.00      1.00        15\n",
      "\n",
      "    accuracy                           0.97        36\n",
      "   macro avg       0.97      0.96      0.97        36\n",
      "weighted avg       0.97      0.97      0.97        36\n",
      "\n"
     ]
    }
   ],
   "source": [
    "precision, recall_score, f1_score, support = precision_recall_fscore_support(labels_test, class_predict, zero_division=1)\n",
    "\n",
    "print(\"-------Métricas para cada classe-------\")\n",
    "confusion_matriz = confusion_matriz.astype('float') / confusion_matriz.sum(axis=1)[:, np.newaxis]\n",
    "accuracy_score = confusion_matriz.diagonal()\n",
    "\n",
    "\n",
    "print(\"Acurácia : \", accuracy_score)\n",
    "\n",
    "print(classification_report(labels_test, class_predict, zero_division=1))"
   ]
  }
 ],
 "metadata": {
  "kernelspec": {
   "display_name": "Python 3",
   "language": "python",
   "name": "python3"
  },
  "language_info": {
   "codemirror_mode": {
    "name": "ipython",
    "version": 3
   },
   "file_extension": ".py",
   "mimetype": "text/x-python",
   "name": "python",
   "nbconvert_exporter": "python",
   "pygments_lexer": "ipython3",
   "version": "3.11.1"
  }
 },
 "nbformat": 4,
 "nbformat_minor": 2
}
