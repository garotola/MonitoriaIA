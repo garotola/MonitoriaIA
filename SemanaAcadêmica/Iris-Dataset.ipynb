{
 "nbformat": 4,
 "nbformat_minor": 0,
 "metadata": {
  "colab": {
   "provenance": [],
   "authorship_tag": "ABX9TyNUXejFTVoqPkBX/ZIs+WZa"
  },
  "kernelspec": {
   "name": "python3",
   "language": "python",
   "display_name": "Python 3 (ipykernel)"
  },
  "language_info": {
   "name": "python"
  }
 },
 "cells": [
  {
   "cell_type": "code",
   "execution_count": 22,
   "metadata": {
    "id": "CzAKU8P7GSZv",
    "executionInfo": {
     "status": "ok",
     "timestamp": 1700490675672,
     "user_tz": 180,
     "elapsed": 307,
     "user": {
      "displayName": "Rafael Batista",
      "userId": "02193470110207597108"
     }
    },
    "ExecuteTime": {
     "end_time": "2023-11-21T17:32:59.004351718Z",
     "start_time": "2023-11-21T17:32:58.843745657Z"
    }
   },
   "outputs": [],
   "source": [
    "import pandas as pd\n",
    "import matplotlib.pyplot as plt\n",
    "import numpy as np\n",
    "from sklearn.model_selection import train_test_split\n",
    "import torch\n",
    "import torch.nn as nn\n",
    "from torch.utils.data import DataLoader"
   ]
  },
  {
   "cell_type": "code",
   "source": [
    "# Importar os dados\n",
    "url = 'https://gist.githubusercontent.com/netj/8836201/raw/6f9306ad21398ea43cba4f7d537619d0e07d5ae3/iris.csv'\n",
    "df = pd.read_csv(url)\n",
    "df.head()"
   ],
   "metadata": {
    "colab": {
     "base_uri": "https://localhost:8080/"
    },
    "id": "Ejvx1iUuGdEs",
    "executionInfo": {
     "status": "ok",
     "timestamp": 1700490676429,
     "user_tz": 180,
     "elapsed": 454,
     "user": {
      "displayName": "Rafael Batista",
      "userId": "02193470110207597108"
     }
    },
    "outputId": "8ccef217-e548-4e47-e608-cc29f51a2d5e",
    "ExecuteTime": {
     "end_time": "2023-11-21T17:32:59.346988440Z",
     "start_time": "2023-11-21T17:32:58.870638454Z"
    }
   },
   "execution_count": 23,
   "outputs": [
    {
     "data": {
      "text/plain": "   sepal.length  sepal.width  petal.length  petal.width variety\n0           5.1          3.5           1.4          0.2  Setosa\n1           4.9          3.0           1.4          0.2  Setosa\n2           4.7          3.2           1.3          0.2  Setosa\n3           4.6          3.1           1.5          0.2  Setosa\n4           5.0          3.6           1.4          0.2  Setosa",
      "text/html": "<div>\n<style scoped>\n    .dataframe tbody tr th:only-of-type {\n        vertical-align: middle;\n    }\n\n    .dataframe tbody tr th {\n        vertical-align: top;\n    }\n\n    .dataframe thead th {\n        text-align: right;\n    }\n</style>\n<table border=\"1\" class=\"dataframe\">\n  <thead>\n    <tr style=\"text-align: right;\">\n      <th></th>\n      <th>sepal.length</th>\n      <th>sepal.width</th>\n      <th>petal.length</th>\n      <th>petal.width</th>\n      <th>variety</th>\n    </tr>\n  </thead>\n  <tbody>\n    <tr>\n      <th>0</th>\n      <td>5.1</td>\n      <td>3.5</td>\n      <td>1.4</td>\n      <td>0.2</td>\n      <td>Setosa</td>\n    </tr>\n    <tr>\n      <th>1</th>\n      <td>4.9</td>\n      <td>3.0</td>\n      <td>1.4</td>\n      <td>0.2</td>\n      <td>Setosa</td>\n    </tr>\n    <tr>\n      <th>2</th>\n      <td>4.7</td>\n      <td>3.2</td>\n      <td>1.3</td>\n      <td>0.2</td>\n      <td>Setosa</td>\n    </tr>\n    <tr>\n      <th>3</th>\n      <td>4.6</td>\n      <td>3.1</td>\n      <td>1.5</td>\n      <td>0.2</td>\n      <td>Setosa</td>\n    </tr>\n    <tr>\n      <th>4</th>\n      <td>5.0</td>\n      <td>3.6</td>\n      <td>1.4</td>\n      <td>0.2</td>\n      <td>Setosa</td>\n    </tr>\n  </tbody>\n</table>\n</div>"
     },
     "execution_count": 23,
     "metadata": {},
     "output_type": "execute_result"
    }
   ]
  },
  {
   "cell_type": "code",
   "execution_count": 24,
   "outputs": [
    {
     "name": "stdout",
     "output_type": "stream",
     "text": [
      "Base de dados com 150 linhas\n"
     ]
    }
   ],
   "source": [
    "print(f\"Base de dados com {len(df)} linhas\")"
   ],
   "metadata": {
    "collapsed": false,
    "ExecuteTime": {
     "end_time": "2023-11-21T17:32:59.377203498Z",
     "start_time": "2023-11-21T17:32:59.352057911Z"
    }
   }
  },
  {
   "cell_type": "code",
   "source": [
    "# Alterando dados categóricos para numéricos\n",
    "df['variety'] = df['variety'].replace('Setosa', 0)\n",
    "df['variety'] = df['variety'].replace('Versicolor', 1)\n",
    "df['variety'] = df['variety'].replace('Virginica', 2)\n",
    "df['variety']"
   ],
   "metadata": {
    "colab": {
     "base_uri": "https://localhost:8080/"
    },
    "id": "SqqzsiHjGebg",
    "executionInfo": {
     "status": "ok",
     "timestamp": 1700490676429,
     "user_tz": 180,
     "elapsed": 17,
     "user": {
      "displayName": "Rafael Batista",
      "userId": "02193470110207597108"
     }
    },
    "outputId": "85e3329d-f922-4015-c6b0-533d375b4ab5",
    "ExecuteTime": {
     "end_time": "2023-11-21T17:32:59.411246116Z",
     "start_time": "2023-11-21T17:32:59.360125931Z"
    }
   },
   "execution_count": 25,
   "outputs": [
    {
     "data": {
      "text/plain": "0      0\n1      0\n2      0\n3      0\n4      0\n      ..\n145    2\n146    2\n147    2\n148    2\n149    2\nName: variety, Length: 150, dtype: int64"
     },
     "execution_count": 25,
     "metadata": {},
     "output_type": "execute_result"
    }
   ]
  },
  {
   "cell_type": "code",
   "source": [
    "# Principio do Aprendizado de Maquina Supervisionado\n",
    "data = df.drop('variety', axis=1) # Dados\n",
    "labels = df['variety'] # Labels"
   ],
   "metadata": {
    "id": "hbpwWzGjGhQy",
    "executionInfo": {
     "status": "ok",
     "timestamp": 1700490676431,
     "user_tz": 180,
     "elapsed": 16,
     "user": {
      "displayName": "Rafael Batista",
      "userId": "02193470110207597108"
     }
    },
    "ExecuteTime": {
     "end_time": "2023-11-21T17:32:59.531164545Z",
     "start_time": "2023-11-21T17:32:59.380882716Z"
    }
   },
   "execution_count": 26,
   "outputs": []
  },
  {
   "cell_type": "code",
   "source": [
    "# Convertendo para array\n",
    "data = data.values\n",
    "labels = labels.values"
   ],
   "metadata": {
    "id": "ddCJvpowGj0l",
    "executionInfo": {
     "status": "ok",
     "timestamp": 1700490676432,
     "user_tz": 180,
     "elapsed": 16,
     "user": {
      "displayName": "Rafael Batista",
      "userId": "02193470110207597108"
     }
    },
    "ExecuteTime": {
     "end_time": "2023-11-21T17:32:59.531650497Z",
     "start_time": "2023-11-21T17:32:59.426029549Z"
    }
   },
   "execution_count": 27,
   "outputs": []
  },
  {
   "cell_type": "code",
   "source": [
    "# Dividindo dados para o processo de treino, teste e validação\n",
    "from sklearn.model_selection import train_test_split\n",
    "data_train, data_test, labels_train, labels_test = train_test_split(data, labels, test_size=0.2, random_state=41)\n",
    "data_train, data_validation, labels_train, labels_validation = train_test_split(data_train, labels_train, test_size=0.1, random_state=1)\n",
    "print(f'Quantidade de Dados para Treinamento : {len(data_train)}')\n",
    "print(f'Quantidade de Dados para Validação : {len(data_test)}')\n",
    "print(f'Quantidade de Dados para Teste : {len(data_validation)}')"
   ],
   "metadata": {
    "colab": {
     "base_uri": "https://localhost:8080/"
    },
    "id": "B1lvpDqCGnLi",
    "executionInfo": {
     "status": "ok",
     "timestamp": 1700490676432,
     "user_tz": 180,
     "elapsed": 15,
     "user": {
      "displayName": "Rafael Batista",
      "userId": "02193470110207597108"
     }
    },
    "outputId": "245bcf6f-f2b2-4d51-bec9-e840c64bf876",
    "ExecuteTime": {
     "end_time": "2023-11-21T17:32:59.614407981Z",
     "start_time": "2023-11-21T17:32:59.426316246Z"
    }
   },
   "execution_count": 28,
   "outputs": [
    {
     "name": "stdout",
     "output_type": "stream",
     "text": [
      "Quantidade de Dados para Treinamento : 108\n",
      "Quantidade de Dados para Validação : 30\n",
      "Quantidade de Dados para Teste : 12\n"
     ]
    }
   ]
  },
  {
   "cell_type": "code",
   "source": [
    "class DataSet(torch.utils.data.Dataset):\n",
    "    def __init__(self,data,labels):\n",
    "        self.data = data\n",
    "        self.labels = labels\n",
    "\n",
    "    def __len__(self):\n",
    "        return len(self.labels)\n",
    "\n",
    "    def __getitem__(self,idx):\n",
    "        return self.data[idx], self.labels[idx]"
   ],
   "metadata": {
    "id": "gRnC75C3G6rS",
    "executionInfo": {
     "status": "ok",
     "timestamp": 1700490676433,
     "user_tz": 180,
     "elapsed": 12,
     "user": {
      "displayName": "Rafael Batista",
      "userId": "02193470110207597108"
     }
    },
    "ExecuteTime": {
     "end_time": "2023-11-21T17:32:59.614881083Z",
     "start_time": "2023-11-21T17:32:59.470293523Z"
    }
   },
   "execution_count": 29,
   "outputs": []
  },
  {
   "cell_type": "code",
   "source": [
    "dataset = DataSet(data_train,labels_train)\n",
    "data_train = DataLoader(dataset, batch_size=32, shuffle=True, num_workers=0)\n",
    "\n",
    "dataset = DataSet(data_validation,labels_validation)\n",
    "data_validation = DataLoader(dataset, batch_size=len(data_validation), shuffle=True, num_workers=0)\n",
    "\n",
    "dataset = DataSet(data_test,labels_test)\n",
    "data_test = DataLoader(dataset, batch_size=len(data_test), shuffle=True, num_workers=0)"
   ],
   "metadata": {
    "id": "xOyioOOLHGr9",
    "executionInfo": {
     "status": "ok",
     "timestamp": 1700490676433,
     "user_tz": 180,
     "elapsed": 11,
     "user": {
      "displayName": "Rafael Batista",
      "userId": "02193470110207597108"
     }
    },
    "ExecuteTime": {
     "end_time": "2023-11-21T17:32:59.616576121Z",
     "start_time": "2023-11-21T17:32:59.470573654Z"
    }
   },
   "execution_count": 30,
   "outputs": []
  },
  {
   "cell_type": "code",
   "source": [
    "# Importação das Bibliotecas\n",
    "import torch.nn as nn\n",
    "\n",
    "# Criação do Modelo de Rede\n",
    "    # 4 Entradas (4 Caracteristicas da Flor)\n",
    "    # 2 Camadas de Neuronio\n",
    "    # 3 Saidas (3 Rotulos de Flor)\n",
    "class IrisClassifier(nn.Module) :\n",
    "    def __init__(self, input_size = 4, hidden_size1=128, hidden_size2 = 64, output_size = 3) :\n",
    "        super().__init__()\n",
    "        self.fc1 = nn.Linear(input_size, hidden_size1)\n",
    "        self.fc2 = nn.Linear(hidden_size1, hidden_size2)\n",
    "        self.output = nn.Linear(hidden_size2, output_size)\n",
    "        self.relu = nn.ReLU()\n",
    "\n",
    "    def forward(self, data) :\n",
    "        data = self.relu(self.fc1(data))\n",
    "        data = self.relu(self.fc2(data))\n",
    "        data = self.output(data)\n",
    "        return data"
   ],
   "metadata": {
    "id": "6lOBglDEHHkU",
    "executionInfo": {
     "status": "ok",
     "timestamp": 1700490676736,
     "user_tz": 180,
     "elapsed": 314,
     "user": {
      "displayName": "Rafael Batista",
      "userId": "02193470110207597108"
     }
    },
    "ExecuteTime": {
     "end_time": "2023-11-21T17:32:59.629202168Z",
     "start_time": "2023-11-21T17:32:59.471506869Z"
    }
   },
   "execution_count": 31,
   "outputs": []
  },
  {
   "cell_type": "code",
   "source": [
    "net = IrisClassifier()\n",
    "learning_rate = 0.01\n",
    "criterion = nn.CrossEntropyLoss()\n",
    "optimizer = torch.optim.Adam(net.parameters(), lr=learning_rate)"
   ],
   "metadata": {
    "id": "W8MiySaFHMov",
    "executionInfo": {
     "status": "ok",
     "timestamp": 1700490676736,
     "user_tz": 180,
     "elapsed": 12,
     "user": {
      "displayName": "Rafael Batista",
      "userId": "02193470110207597108"
     }
    },
    "ExecuteTime": {
     "end_time": "2023-11-21T17:32:59.629699366Z",
     "start_time": "2023-11-21T17:32:59.514007150Z"
    }
   },
   "execution_count": 32,
   "outputs": []
  },
  {
   "cell_type": "code",
   "source": [
    "def train_one_epoch(model,loss_function,optimizer,data_train):\n",
    "    model.train()\n",
    "    current_loss = 0.0\n",
    "    current_accuracy = 0.0\n",
    "    total_samples = 0\n",
    "\n",
    "    for i,data in enumerate(data_train):\n",
    "        x,y = data\n",
    "        x = x.to(torch.float)\n",
    "        optimizer.zero_grad()\n",
    "        output = model(x)\n",
    "        loss = loss_function(output,y)\n",
    "        loss.backward()\n",
    "        optimizer.step()\n",
    "        current_loss += loss.item()\n",
    "\n",
    "        output = output.argmax(dim=1)\n",
    "        batch_accuracy = torch.eq(output,y)\n",
    "        batch_accuracy = batch_accuracy.sum()\n",
    "        current_accuracy += batch_accuracy\n",
    "        total_samples += len(x)\n",
    "    return current_loss/(i+1), current_accuracy/total_samples"
   ],
   "metadata": {
    "id": "uBPs8sqSHUXb",
    "executionInfo": {
     "status": "ok",
     "timestamp": 1700490676737,
     "user_tz": 180,
     "elapsed": 12,
     "user": {
      "displayName": "Rafael Batista",
      "userId": "02193470110207597108"
     }
    },
    "ExecuteTime": {
     "end_time": "2023-11-21T17:32:59.630037256Z",
     "start_time": "2023-11-21T17:32:59.514292869Z"
    }
   },
   "execution_count": 33,
   "outputs": []
  },
  {
   "cell_type": "code",
   "source": [
    "def validation_one_epoch(model,loss_function, data_validation):\n",
    "    model.train(False)\n",
    "    current_loss = 0.0\n",
    "    current_accuracy = 0.0\n",
    "    total_samples = 0\n",
    "    for i,data in enumerate(data_validation):\n",
    "        x,y = data\n",
    "        x = x.to(torch.float)\n",
    "        output = model(x)\n",
    "        loss = loss_function(output,y)\n",
    "        current_loss += loss.item()\n",
    "\n",
    "        output = output.argmax(dim=1)\n",
    "        batch_accuracy = torch.eq(output,y)\n",
    "        batch_accuracy = batch_accuracy.sum()\n",
    "        current_accuracy += batch_accuracy\n",
    "        total_samples += len(x)\n",
    "    return current_loss/(i+1), current_accuracy/total_samples"
   ],
   "metadata": {
    "id": "eTca_dlAHXGO",
    "executionInfo": {
     "status": "ok",
     "timestamp": 1700490676737,
     "user_tz": 180,
     "elapsed": 12,
     "user": {
      "displayName": "Rafael Batista",
      "userId": "02193470110207597108"
     }
    },
    "ExecuteTime": {
     "end_time": "2023-11-21T17:32:59.643754358Z",
     "start_time": "2023-11-21T17:32:59.527339708Z"
    }
   },
   "execution_count": 34,
   "outputs": []
  },
  {
   "cell_type": "code",
   "source": [
    "epochs = 15\n",
    "train_loss_all_epoch = []\n",
    "train_accuracy_all_epoch = []\n",
    "val_loss_all_epoch = []\n",
    "val_accuracy_all_epoch = []\n",
    "best_val_loss = 1e9\n",
    "\n",
    "for epoch in range(epochs):\n",
    "\n",
    "    train_loss_per_epoch, train_accuracy_per_epoch = train_one_epoch(net,criterion,optimizer,data_train)\n",
    "\n",
    "    train_loss_all_epoch.append(train_loss_per_epoch)\n",
    "    train_accuracy_all_epoch.append(train_accuracy_per_epoch)\n",
    "\n",
    "    val_loss_per_epoch,val_accuracy_per_epoch = validation_one_epoch(net,criterion, data_validation)\n",
    "\n",
    "    val_loss_all_epoch.append(val_loss_per_epoch)\n",
    "    val_accuracy_all_epoch.append(val_accuracy_per_epoch)\n",
    "\n",
    "    if val_loss_per_epoch < best_val_loss:\n",
    "        best_val_loss = val_loss_per_epoch\n",
    "        model_path = 'test_model'\n",
    "        torch.save(net.state_dict(),model_path)\n",
    "\n",
    "    if(epoch % 1 == 0) :\n",
    "      print(f'Epóca [: {epoch}]')\n",
    "      print(f'Erro de Treinamento: {train_loss_per_epoch}')\n",
    "      print(f'Erro de Validação: {val_loss_per_epoch}')\n",
    "      print(f'Acurácia de Treinamento: {train_accuracy_per_epoch}')\n",
    "      print(f'Acurácia de Validação: {val_accuracy_per_epoch}')\n",
    "      print()"
   ],
   "metadata": {
    "colab": {
     "base_uri": "https://localhost:8080/"
    },
    "id": "EfoyIzHRHaXl",
    "executionInfo": {
     "status": "ok",
     "timestamp": 1700490678052,
     "user_tz": 180,
     "elapsed": 1326,
     "user": {
      "displayName": "Rafael Batista",
      "userId": "02193470110207597108"
     }
    },
    "outputId": "ca577e7a-2b96-4fec-d843-5feb4f1403ab",
    "ExecuteTime": {
     "end_time": "2023-11-21T17:33:00.219443309Z",
     "start_time": "2023-11-21T17:32:59.542298161Z"
    }
   },
   "execution_count": 35,
   "outputs": [
    {
     "name": "stdout",
     "output_type": "stream",
     "text": [
      "Epóca [: 0]\n",
      "Erro de Treinamento: 0.9245423376560211\n",
      "Erro de Validação: 0.885779082775116\n",
      "Acurácia de Treinamento: 0.5740740895271301\n",
      "Acurácia de Validação: 0.6666666865348816\n",
      "\n",
      "Epóca [: 1]\n",
      "Erro de Treinamento: 0.6580392047762871\n",
      "Erro de Validação: 0.6456764340400696\n",
      "Acurácia de Treinamento: 0.6851851940155029\n",
      "Acurácia de Validação: 0.5833333134651184\n",
      "\n",
      "Epóca [: 2]\n",
      "Erro de Treinamento: 0.47456055507063866\n",
      "Erro de Validação: 0.47875699400901794\n",
      "Acurácia de Treinamento: 0.6851851940155029\n",
      "Acurácia de Validação: 0.5833333134651184\n",
      "\n",
      "Epóca [: 3]\n",
      "Erro de Treinamento: 0.3841293305158615\n",
      "Erro de Validação: 0.40834081172943115\n",
      "Acurácia de Treinamento: 0.8240740895271301\n",
      "Acurácia de Validação: 0.9166666865348816\n",
      "Epóca [: 4]\n",
      "Erro de Treinamento: 0.3624557554721832\n",
      "Erro de Validação: 0.4159804880619049\n",
      "Acurácia de Treinamento: 0.9166666865348816\n",
      "Acurácia de Validação: 0.5833333134651184\n",
      "\n",
      "Epóca [: 5]\n",
      "Erro de Treinamento: 0.3302762135863304\n",
      "Erro de Validação: 0.26179200410842896\n",
      "Acurácia de Treinamento: 0.7592592835426331\n",
      "Acurácia de Validação: 1.0\n",
      "\n",
      "Epóca [: 6]\n",
      "Erro de Treinamento: 0.24768459796905518\n",
      "Erro de Validação: 0.19097065925598145\n",
      "Acurácia de Treinamento: 0.9814814925193787\n",
      "Acurácia de Validação: 1.0\n",
      "\n",
      "Epóca [: 7]\n",
      "Erro de Treinamento: 0.21395375207066536\n",
      "Erro de Validação: 0.21927951276302338\n",
      "Acurácia de Treinamento: 0.9351851940155029\n",
      "Acurácia de Validação: 0.9166666865348816\n",
      "\n",
      "Epóca [: 8]\n",
      "Erro de Treinamento: 0.1852792650461197\n",
      "Erro de Validação: 0.14960946142673492\n",
      "Acurácia de Treinamento: 0.9259259104728699\n",
      "Acurácia de Validação: 0.9166666865348816\n",
      "\n",
      "Epóca [: 9]\n",
      "Erro de Treinamento: 0.30487932078540325\n",
      "Erro de Validação: 0.07340352982282639\n",
      "Acurácia de Treinamento: 0.8888888955116272\n",
      "Acurácia de Validação: 1.0\n",
      "Epóca [: 10]\n",
      "Erro de Treinamento: 0.1802664529532194\n",
      "Erro de Validação: 0.048890504986047745\n",
      "Acurácia de Treinamento: 0.9444444179534912\n",
      "Acurácia de Validação: 1.0\n",
      "\n",
      "Epóca [: 11]\n",
      "Erro de Treinamento: 0.13594100251793861\n",
      "Erro de Validação: 0.05040256679058075\n",
      "Acurácia de Treinamento: 0.9351851940155029\n",
      "Acurácia de Validação: 1.0\n",
      "\n",
      "Epóca [: 12]\n",
      "Erro de Treinamento: 0.09165661036968231\n",
      "Erro de Validação: 0.044634606689214706\n",
      "Acurácia de Treinamento: 0.9907407164573669\n",
      "Acurácia de Validação: 1.0\n",
      "\n",
      "Epóca [: 13]\n",
      "Erro de Treinamento: 0.09538901224732399\n",
      "Erro de Validação: 0.04052360728383064\n",
      "Acurácia de Treinamento: 0.9814814925193787\n",
      "Acurácia de Validação: 1.0\n",
      "\n",
      "Epóca [: 14]\n",
      "Erro de Treinamento: 0.14768005535006523\n",
      "Erro de Validação: 0.03228482976555824\n",
      "Acurácia de Treinamento: 0.9351851940155029\n",
      "Acurácia de Validação: 1.0\n"
     ]
    }
   ]
  },
  {
   "cell_type": "code",
   "source": [
    "import matplotlib.pyplot as plt\n",
    "\n",
    "plt.plot(train_loss_all_epoch)\n",
    "plt.plot(val_loss_all_epoch)\n",
    "plt.legend(['Treino', 'Validação'])\n",
    "plt.xlabel('Épocas')\n",
    "\n",
    "plt.show()"
   ],
   "metadata": {
    "colab": {
     "base_uri": "https://localhost:8080/",
     "height": 451
    },
    "id": "wHvWOckGI9pQ",
    "executionInfo": {
     "status": "ok",
     "timestamp": 1700490680043,
     "user_tz": 180,
     "elapsed": 1997,
     "user": {
      "displayName": "Rafael Batista",
      "userId": "02193470110207597108"
     }
    },
    "outputId": "fa0ab4dc-627a-4d08-a3c0-6bfcd0e47383",
    "ExecuteTime": {
     "end_time": "2023-11-21T17:33:00.442233955Z",
     "start_time": "2023-11-21T17:33:00.217011239Z"
    }
   },
   "execution_count": 36,
   "outputs": [
    {
     "data": {
      "text/plain": "<Figure size 640x480 with 1 Axes>",
      "image/png": "[encoded data removed]"
     },
     "metadata": {},
     "output_type": "display_data"
    }
   ]
  },
  {
   "cell_type": "code",
   "source": [
    "import matplotlib.pyplot as plt\n",
    "\n",
    "plt.plot(train_accuracy_all_epoch)\n",
    "plt.plot(val_accuracy_all_epoch)\n",
    "plt.legend(['Treino', 'Validação'])\n",
    "plt.xlabel('Épocas')\n",
    "\n",
    "plt.show()"
   ],
   "metadata": {
    "colab": {
     "base_uri": "https://localhost:8080/",
     "height": 451
    },
    "id": "WeX8YM8pJDPY",
    "executionInfo": {
     "status": "ok",
     "timestamp": 1700490681758,
     "user_tz": 180,
     "elapsed": 1728,
     "user": {
      "displayName": "Rafael Batista",
      "userId": "02193470110207597108"
     }
    },
    "outputId": "71593990-0c0c-4dcc-a575-6cf7b664f1c1",
    "ExecuteTime": {
     "end_time": "2023-11-21T17:33:00.604249052Z",
     "start_time": "2023-11-21T17:33:00.447222830Z"
    }
   },
   "execution_count": 37,
   "outputs": [
    {
     "data": {
      "text/plain": "<Figure size 640x480 with 1 Axes>",
      "image/png": "[encoded data removed]"
     },
     "metadata": {},
     "output_type": "display_data"
    }
   ]
  },
  {
   "cell_type": "code",
   "source": [
    "from sklearn.metrics import confusion_matrix\n",
    "from sklearn.metrics import multilabel_confusion_matrix\n",
    "\n",
    "net.train(False)\n",
    "for data in data_test:\n",
    "    x_test, y_test = data\n",
    "    x_test = x_test.to(torch.float32)\n",
    "    y_pred = net(x_test)\n",
    "    y_pred = torch.Tensor.argmax(y_pred, dim=1)\n",
    "    c_matrix = confusion_matrix(y_test, y_pred, labels=range(3))\n",
    "\n",
    "c_matrix"
   ],
   "metadata": {
    "colab": {
     "base_uri": "https://localhost:8080/"
    },
    "id": "Vs_CJTajJF_8",
    "executionInfo": {
     "status": "ok",
     "timestamp": 1700490681759,
     "user_tz": 180,
     "elapsed": 50,
     "user": {
      "displayName": "Rafael Batista",
      "userId": "02193470110207597108"
     }
    },
    "outputId": "db3c2db5-fea1-4be3-ee03-c4e031aa6ddf",
    "ExecuteTime": {
     "end_time": "2023-11-21T17:33:00.609107674Z",
     "start_time": "2023-11-21T17:33:00.603089484Z"
    }
   },
   "execution_count": 38,
   "outputs": [
    {
     "data": {
      "text/plain": "array([[ 9,  0,  0],\n       [ 0, 10,  1],\n       [ 0,  3,  7]])"
     },
     "execution_count": 38,
     "metadata": {},
     "output_type": "execute_result"
    }
   ]
  },
  {
   "cell_type": "code",
   "source": [
    "from sklearn.metrics import classification_report\n",
    "\n",
    "net.train(False)\n",
    "\n",
    "for data in data_test:\n",
    "    x_test,y_test = data\n",
    "    x_test = x_test.to(torch.float32)\n",
    "    y_pred = net(x_test)\n",
    "    y_pred = torch.Tensor.argmax(y_pred, dim=1)\n",
    "\n",
    "    print(classification_report(y_test,y_pred,zero_division=1))"
   ],
   "metadata": {
    "colab": {
     "base_uri": "https://localhost:8080/"
    },
    "id": "E1GHGqFfJHqY",
    "executionInfo": {
     "status": "ok",
     "timestamp": 1700490681759,
     "user_tz": 180,
     "elapsed": 45,
     "user": {
      "displayName": "Rafael Batista",
      "userId": "02193470110207597108"
     }
    },
    "outputId": "1a538e41-de06-421a-a9a3-f9b6f37fac65",
    "ExecuteTime": {
     "end_time": "2023-11-21T17:33:00.682260636Z",
     "start_time": "2023-11-21T17:33:00.609616185Z"
    }
   },
   "execution_count": 39,
   "outputs": [
    {
     "name": "stdout",
     "output_type": "stream",
     "text": [
      "              precision    recall  f1-score   support\n",
      "\n",
      "           0       1.00      1.00      1.00         9\n",
      "           1       0.77      0.91      0.83        11\n",
      "           2       0.88      0.70      0.78        10\n",
      "\n",
      "    accuracy                           0.87        30\n",
      "   macro avg       0.88      0.87      0.87        30\n",
      "weighted avg       0.87      0.87      0.86        30\n"
     ]
    }
   ]
  }
 ]
}
