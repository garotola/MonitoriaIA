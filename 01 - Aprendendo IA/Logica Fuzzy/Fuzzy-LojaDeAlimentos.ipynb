{
 "cells": [
  {
   "cell_type": "markdown",
   "source": [
    "# Logica Fuzzy \n",
    "Lógica Booleana : 0 ou 1 \n",
    "Logica Fuzzy :  Falso, Meio Falso, Meio Verdadeiro, Verdadeiro"
   ],
   "metadata": {
    "collapsed": false
   },
   "id": "e95848f7ff5d318c"
  },
  {
   "cell_type": "code",
   "execution_count": 1,
   "outputs": [],
   "source": [
    "import numpy as np\n",
    "import skfuzzy as fuzz\n",
    "from skfuzzy import control as ctrl"
   ],
   "metadata": {
    "collapsed": false,
    "ExecuteTime": {
     "end_time": "2023-11-14T18:28:25.803986373Z",
     "start_time": "2023-11-14T18:28:24.152360455Z"
    }
   },
   "id": "47eb34dc7c47d763"
  },
  {
   "cell_type": "markdown",
   "source": [
    "# Problema\n",
    "- Uma empresa de alimentos deseja saber a vlidade real de um seus produtos em função da temperatura e umidade relativa do ambiente de armazenamento.\n",
    "- A validade máxima desse produto é de 60 dias se armazenado a baixa temperatura em ambiente seco.\n",
    "- Modelar a validade do produto com base na Temperatura (T) e Umidade Relativa (UR) do depósito. A Temperatura é um valor entre 0 e 40°C, a UR entre 0 e 100% e validade de 0 a 60 dias.\n",
    "\n",
    "## Variaveis de Entrada\n",
    "- Temperatura :\n",
    "    - Intervalo de Valores : [0,40]\n",
    "    - Linguistica : Fria, Amena e Quente\n",
    "- Umidade Relativa :\n",
    "    - Intervalo de Valores : [0, 100]\n",
    "    - Linguista : "
   ],
   "metadata": {
    "collapsed": false
   },
   "id": "fce7a4adafa0645e"
  },
  {
   "cell_type": "code",
   "execution_count": null,
   "outputs": [],
   "source": [],
   "metadata": {
    "collapsed": false
   },
   "id": "73b3c786e9d2e065"
  }
 ],
 "metadata": {
  "kernelspec": {
   "display_name": "Python 3",
   "language": "python",
   "name": "python3"
  },
  "language_info": {
   "codemirror_mode": {
    "name": "ipython",
    "version": 2
   },
   "file_extension": ".py",
   "mimetype": "text/x-python",
   "name": "python",
   "nbconvert_exporter": "python",
   "pygments_lexer": "ipython2",
   "version": "2.7.6"
  }
 },
 "nbformat": 4,
 "nbformat_minor": 5
}
