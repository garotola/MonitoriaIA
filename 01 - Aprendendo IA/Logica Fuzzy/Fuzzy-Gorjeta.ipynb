{
 "cells": [
  {
   "cell_type": "markdown",
   "source": [
    "# Gorjeta\n",
    "Definir o valor da gorjeta em um restaurante com base na qualidade do serviço e comida.\n",
    "\n",
    "## Entradas\n",
    "- Qualidade da Comida\n",
    "    - Universo : 0 a 10\n",
    "    - Conjunto Difuso : Péssima, Comível e Deliciosa\n",
    "- Qualidade do Serviço \n",
    "    - Universo : 0 a 10\n",
    "    - Conjunto Difuso : Ruim, Aceitável e Excelente\n",
    "\n",
    "## Saida\n",
    "- Gorjeta\n",
    "    - Universo : 0 a 25%\n",
    "    - Conjunto Difuso : Baixa, Média e Alta \n",
    "\n",
    "## Regras de Decisão\n",
    "- SE o serviço foi excelente ou a comida estava deliciosa ENTAO a gorjeta deve ser alta.\n",
    "- SE o serviço foi aceitável ENTAO a gorjeta deve ser média\n",
    "- SE o serviço foi ruim E a comida estava péssima ENTAO a gorjeta deve ser baixa"
   ],
   "metadata": {
    "collapsed": false
   },
   "id": "8f1c0b6abc1c1f46"
  },
  {
   "cell_type": "code",
   "execution_count": null,
   "id": "initial_id",
   "metadata": {
    "collapsed": true
   },
   "outputs": [],
   "source": []
  },
  {
   "cell_type": "code",
   "execution_count": null,
   "outputs": [],
   "source": [],
   "metadata": {
    "collapsed": false
   },
   "id": "9473d479e7a2dab9"
  }
 ],
 "metadata": {
  "kernelspec": {
   "display_name": "Python 3",
   "language": "python",
   "name": "python3"
  },
  "language_info": {
   "codemirror_mode": {
    "name": "ipython",
    "version": 2
   },
   "file_extension": ".py",
   "mimetype": "text/x-python",
   "name": "python",
   "nbconvert_exporter": "python",
   "pygments_lexer": "ipython2",
   "version": "2.7.6"
  }
 },
 "nbformat": 4,
 "nbformat_minor": 5
}
