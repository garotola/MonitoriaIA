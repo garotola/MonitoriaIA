{
 "cells": [
  {
   "cell_type": "markdown",
   "source": [
    "# Gorjeta\n",
    "Definir o valor da gorjeta em um restaurante com base na qualidade do serviço e comida.\n",
    "\n",
    "## Entradas\n",
    "- Qualidade da Comida\n",
    "    - Universo : 0 a 10\n",
    "    - Conjunto Difuso : Péssima, Comível e Deliciosa\n",
    "- Qualidade do Serviço \n",
    "    - Universo : 0 a 10\n",
    "    - Conjunto Difuso : Ruim, Aceitável e Excelente\n",
    "\n",
    "## Saida\n",
    "- Gorjeta\n",
    "    - Universo : 0 a 25%\n",
    "    - Conjunto Difuso : Baixa, Média e Alta \n",
    "\n",
    "## Regras de Decisão\n",
    "- SE o serviço foi excelente ou a comida estava deliciosa ENTAO a gorjeta deve ser alta.\n",
    "- SE o serviço foi aceitável ENTAO a gorjeta deve ser média\n",
    "- SE o serviço foi ruim E a comida estava péssima ENTAO a gorjeta deve ser baixa"
   ],
   "metadata": {
    "collapsed": false
   },
   "id": "8f1c0b6abc1c1f46"
  },
  {
   "cell_type": "code",
   "execution_count": 1,
   "id": "initial_id",
   "metadata": {
    "collapsed": true,
    "ExecuteTime": {
     "end_time": "2023-11-14T22:38:00.423518888Z",
     "start_time": "2023-11-14T22:37:59.155130641Z"
    }
   },
   "outputs": [],
   "source": [
    "import numpy as np\n",
    "import skfuzzy as fuzz\n",
    "from skfuzzy import control as ctrl"
   ]
  },
  {
   "cell_type": "code",
   "execution_count": 2,
   "outputs": [],
   "source": [
    "# Fuzzificação\n",
    "food = ctrl.Antecedent(np.arange(0, 11, 1), 'food')\n",
    "service = ctrl.Antecedent(np.arange(0, 11, 1), 'service')\n",
    "tip = ctrl.Consequent(np.arange(0, 25, 1), 'tip')\n",
    "\n",
    "food.automf(names=['terrible', 'edible', 'delicious'])\n",
    "\n",
    "service['bad'] = fuzz.trimf(service.universe, [0,0,5]) # Triangular \n",
    "service['acceptable'] = fuzz.gaussmf(service.universe, 5,2) # Gauseniana\n",
    "service['excelent'] = fuzz.gaussmf(service.universe, 10,3)\n",
    "\n",
    "tip['low'] = fuzz.trimf(tip.universe, [0,0,13])\n",
    "tip['medium'] = fuzz.trapmf(tip.universe, [0,13,15,25]) # Trapezio\n",
    "tip['high'] = fuzz.trimf(tip.universe, [15,25,25])"
   ],
   "metadata": {
    "collapsed": false,
    "ExecuteTime": {
     "end_time": "2023-11-14T22:50:24.045411432Z",
     "start_time": "2023-11-14T22:50:23.985503211Z"
    }
   },
   "id": "9473d479e7a2dab9"
  },
  {
   "cell_type": "code",
   "execution_count": null,
   "outputs": [],
   "source": [],
   "metadata": {
    "collapsed": false
   },
   "id": "bb12bb4bb2d59979"
  }
 ],
 "metadata": {
  "kernelspec": {
   "display_name": "Python 3",
   "language": "python",
   "name": "python3"
  },
  "language_info": {
   "codemirror_mode": {
    "name": "ipython",
    "version": 2
   },
   "file_extension": ".py",
   "mimetype": "text/x-python",
   "name": "python",
   "nbconvert_exporter": "python",
   "pygments_lexer": "ipython2",
   "version": "2.7.6"
  }
 },
 "nbformat": 4,
 "nbformat_minor": 5
}
