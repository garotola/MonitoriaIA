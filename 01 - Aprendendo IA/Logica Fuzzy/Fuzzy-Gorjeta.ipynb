{
 "cells": [
  {
   "cell_type": "markdown",
   "source": [
    "# Gorjeta\n",
    "Definir o valor da gorjeta em um restaurante com base na qualidade do serviço e comida.\n",
    "\n",
    "## Entradas\n",
    "- Qualidade da Comida\n",
    "    - Universo : 0 a 10\n",
    "    - Conjunto Difuso : Péssima, Comível, Deliciosa "
   ],
   "metadata": {
    "collapsed": false
   },
   "id": "8f1c0b6abc1c1f46"
  },
  {
   "cell_type": "code",
   "execution_count": null,
   "id": "initial_id",
   "metadata": {
    "collapsed": true
   },
   "outputs": [],
   "source": []
  },
  {
   "cell_type": "code",
   "execution_count": null,
   "outputs": [],
   "source": [],
   "metadata": {
    "collapsed": false
   },
   "id": "9473d479e7a2dab9"
  }
 ],
 "metadata": {
  "kernelspec": {
   "display_name": "Python 3",
   "language": "python",
   "name": "python3"
  },
  "language_info": {
   "codemirror_mode": {
    "name": "ipython",
    "version": 2
   },
   "file_extension": ".py",
   "mimetype": "text/x-python",
   "name": "python",
   "nbconvert_exporter": "python",
   "pygments_lexer": "ipython2",
   "version": "2.7.6"
  }
 },
 "nbformat": 4,
 "nbformat_minor": 5
}
