{
 "cells": [
  {
   "cell_type": "markdown",
   "id": "393e3c5c",
   "metadata": {},
   "source": [
    "# Inteligência Artificial\n",
    "Segundo o Google Cloud : \n",
    "\"A inteligência artificial é um campo da ciência preocupado com a criação de computadores e máquinas que podem raciocinar, aprender e atuar de maneira que normalmente exigiria inteligência humana ou que envolvia dados com escala maior que as pessoas podem analisar. \"\n",
    "\n",
    "- Baseado em Conhecimento (If)\n",
    "    Dados e Modelo -> Programação Tradicional -> Output\n",
    "- Baseado em Aprendizado Estatistico (Machine Learning)\n",
    "    Dados e Saída -> Aprendizado de Máquina -> Modelo"
   ]
  },
  {
   "cell_type": "markdown",
   "id": "b77b492f",
   "metadata": {},
   "source": [
    "# Tipos de Aprendizado de Máquina\n",
    "- Supervisionado : Conjunto de dados rotulados e explicados.\n",
    "    - Classificação\n",
    "    - Regressão \n",
    "- Não supervisionado : Conjunto de dados não rotulados.\n",
    "    - Segmentação\n",
    "- Por Reforço : Poucos dados e trabalhado por meio de tentativa e erro\n",
    "    - Robótica"
   ]
  },
  {
   "cell_type": "markdown",
   "id": "41a40a33",
   "metadata": {},
   "source": [
    "# Aprendizado Supervisionado\n",
    "- Features : Variaveis de entrada\n",
    "- Classes/Labels : Etiqueta dos dados"
   ]
  },
  {
   "cell_type": "markdown",
   "id": "bd2f9c54",
   "metadata": {},
   "source": [
    "# Rede Neural Artificial\n",
    "Perceptron"
   ]
  }
 ],
 "metadata": {
  "kernelspec": {
   "display_name": "Python 3",
   "language": "python",
   "name": "python3"
  },
  "language_info": {
   "codemirror_mode": {
    "name": "ipython",
    "version": 2
   },
   "file_extension": ".py",
   "mimetype": "text/x-python",
   "name": "python",
   "nbconvert_exporter": "python",
   "pygments_lexer": "ipython2",
   "version": "2.7.6"
  }
 },
 "nbformat": 4,
 "nbformat_minor": 5
}
