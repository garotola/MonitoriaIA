{
 "cells": [
  {
   "cell_type": "markdown",
   "metadata": {
    "collapsed": false
   },
   "source": [
    "# Neurônio Artificial - Perceptron Simples\n",
    "Algoritmo que torna possível separar elementos de grupos que tenham características diferentes e com base nessa separação prever a qual grupo pertencerá elementos não classificados previamente. Para problemas linearmente separáveis\n",
    "\n",
    "( Inputs * Weights ) -> Produto Escalavel -> Função de Ativação\n",
    "![Alt text](image-1.png)\n",
    "## Receita do Perceptron\n",
    "- Conjunto de dados Supervisionado\n",
    "- Feed Forward \n",
    "- Calcular os erros e atualizar os pesos\n",
    "\n",
    "\n",
    "## Conceitos Importantes\n",
    "- Época : Número de vezes que o algoritmo processa o dataset inteiro\n",
    "- Tamanho do Batch : Número de exemplos em um único batch antes do modelo atualizar os pesos\n",
    "- Interações : Número de vezes o algoritmo processo os batch para completar\n",
    "\n",
    "## Bias \n",
    "Peso adicional no Precepton"
   ]
  },
  {
   "cell_type": "code",
   "execution_count": null,
   "metadata": {
    "collapsed": false
   },
   "outputs": [],
   "source": [
    "#Perceptron (https://www.youtube.com/watch?v=fEukSrpDPH0&list=PLtQM10PgmGogjn0cikgWi8wpQUnV6ERkY&index=9)\n",
    "\n",
    "import numpy as np\n",
    "\n",
    "class Perceptron(object) :\n",
    "    def __init__(self, qtd_inputs, learning_rate = 0.5, num_epochs = 100, bias = 0) :\n",
    "        self.weights = np.zeros(qtd_inputs) # Cria um array de zeros com tamanho informado\n",
    "        self.num_inputs = qtd_inputs\n",
    "        self.num_epochs = num_epochs\n",
    "        self.learning_rate = learning_rate\n",
    "        self.bias = bias\n",
    "\n",
    "    # Grep - Função de Ativação\n",
    "    def activate(self, x) :\n",
    "        return 1 if x >= 0 else 0\n",
    "\n",
    "    # Produto Escalar\n",
    "    def predict(self, inputs) :\n",
    "        weighted_sum = np.dot(inputs, self.weights) + self.bias\n",
    "        return self.activate(weighted_sum)\n",
    "    \n",
    "    # Treinamento\n",
    "    def train(self, training_data, labels):\n",
    "        for _ in range(self.num_epochs):\n",
    "            for i in range(len(training_data)):\n",
    "                prediction = self.predict(training_data[i])\n",
    "                error = labels[i] - prediction\n",
    "                self.weights += self.learning_rate * error * training_data[i]\n",
    "                self.bias += self.learning_rate * error\n",
    "                "
   ]
  },
  {
   "cell_type": "code",
   "execution_count": null,
   "metadata": {
    "collapsed": false
   },
   "outputs": [],
   "source": [
    "datas = np.array([\n",
    "    [1.,0.],\n",
    "    [0.,0.],\n",
    "    [0.,1.],\n",
    "    [1.,1.]\n",
    "    ])\n",
    "\n",
    "labels = np.array([0.,1.,0.,0.])\n",
    "\n",
    "perceptron = Perceptron(qtd_inputs=2) \n",
    "perceptron.train(datas, labels)\n",
    "\n",
    "test_data = np.array([[0., 0.], [0., 1.], [1., 0.], [1., 1.]])\n",
    "for data_point in test_data:\n",
    "    prediction = perceptron.predict(data_point)\n",
    "    print(f\"Input: {data_point}, Prediction: {prediction}\")"
   ]
  }
 ],
 "metadata": {
  "kernelspec": {
   "display_name": "Python 3",
   "language": "python",
   "name": "python3"
  },
  "language_info": {
   "codemirror_mode": {
    "name": "ipython",
    "version": 3
   },
   "file_extension": ".py",
   "mimetype": "text/x-python",
   "name": "python",
   "nbconvert_exporter": "python",
   "pygments_lexer": "ipython3",
   "version": "3.11.1"
  },
  "orig_nbformat": 4
 },
 "nbformat": 4,
 "nbformat_minor": 2
}
