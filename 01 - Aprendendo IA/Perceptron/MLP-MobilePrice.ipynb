{
 "cells": [
  {
   "cell_type": "code",
   "execution_count": 548,
   "metadata": {},
   "outputs": [],
   "source": [
    "# Bibliotecas\n",
    "import numpy as np\n",
    "import pandas as pd\n",
    "import matplotlib.pyplot as plt \n",
    "import torch\n",
    "import torch.nn.functional as F\n",
    "from sklearn.model_selection import train_test_split\n",
    "from sklearn.metrics import confusion_matrix\n",
    "from sklearn.metrics import multilabel_confusion_matrix\n",
    "from sklearn.metrics import precision_score, recall_score, f1_score, accuracy_score\n",
    "from sklearn.metrics import precision_recall_fscore_support\n",
    "from sklearn.metrics import classification_report\n",
    "from tensorflow.keras.utils import to_categorical\n",
    "from torch import nn"
   ]
  },
  {
   "cell_type": "code",
   "execution_count": 549,
   "metadata": {},
   "outputs": [],
   "source": [
    "# Carregando dados\n",
    "inputData = pd.read_csv('./Datasets/mobile/train.csv')\n",
    "data = inputData.drop('price_range', axis=1)\n",
    "labels = inputData['price_range']"
   ]
  },
  {
   "cell_type": "code",
   "execution_count": 550,
   "metadata": {},
   "outputs": [],
   "source": [
    "# Dividir para treinamento e validação\n",
    "data = data.values\n",
    "labels = labels.values\n",
    "data_train, data_test, labels_train, labels_test = train_test_split(data, labels, test_size=0.2, random_state=123)\n",
    "data_train, data_validation, labels_train, labels_validation =train_test_split(data_train, labels_train, test_size=0.2)"
   ]
  },
  {
   "cell_type": "code",
   "execution_count": null,
   "metadata": {},
   "outputs": [],
   "source": []
  },
  {
   "cell_type": "code",
   "execution_count": 551,
   "metadata": {},
   "outputs": [],
   "source": [
    "#One hot encoding\n",
    "labels_train_onehot = to_categorical(labels_train)\n",
    "labels_test_onehot = to_categorical(labels_test)\n",
    "labels_validation_onehot = to_categorical(labels_validation)"
   ]
  },
  {
   "cell_type": "code",
   "execution_count": null,
   "metadata": {},
   "outputs": [],
   "source": []
  },
  {
   "cell_type": "code",
   "execution_count": 552,
   "metadata": {},
   "outputs": [],
   "source": [
    "data_train = torch.FloatTensor(data_train)\n",
    "data_test = torch.FloatTensor(data_test)\n",
    "labels_train = torch.FloatTensor(labels_train)\n",
    "labels_test = torch.FloatTensor(labels_test)\n",
    "labels_train_onehot = torch.FloatTensor(labels_train_onehot)\n",
    "labels_test_onehot = torch.FloatTensor(labels_test_onehot)\n",
    "#data_validation = torch.FloatTensor(data_validation)\n",
    "#labels_validation = torch.FloatTensor(labels_validation)"
   ]
  },
  {
   "cell_type": "code",
   "execution_count": 553,
   "metadata": {},
   "outputs": [],
   "source": [
    "# Rede Neural\n",
    "class MobilePriceClassifier(nn.Module) :\n",
    "    def __init__(self, input_size = 20, hidden_size1 = 20, hidden_size2 = 40, hidden_size3 = 20, hidden_size4 = 10, output_size=4) :\n",
    "        super().__init__()\n",
    "        self.layer1 = nn.Linear(input_size, hidden_size1)\n",
    "        self.layer2 = nn.Linear(hidden_size1, hidden_size2)\n",
    "        self.layer3 = nn.Linear(hidden_size2, hidden_size3)\n",
    "        self.layer4 = nn.Linear(hidden_size3, hidden_size4)\n",
    "        self.layer5 = nn.Linear(hidden_size4, output_size)\n",
    "\n",
    "    def forward(self, data) :\n",
    "        data = F.relu(self.layer1(data))\n",
    "        data = F.relu(self.layer2(data))\n",
    "        data = F.relu(self.layer3(data))\n",
    "        data = F.relu(self.layer4(data))\n",
    "        data = self.layer5(data)\n",
    "        return data"
   ]
  },
  {
   "cell_type": "code",
   "execution_count": 554,
   "metadata": {},
   "outputs": [],
   "source": [
    "rna = MobilePriceClassifier()\n",
    "criterion = nn.CrossEntropyLoss()\n",
    "optimizer = torch.optim.Adam(rna.parameters(), lr=0.01)"
   ]
  },
  {
   "cell_type": "code",
   "execution_count": 555,
   "metadata": {},
   "outputs": [],
   "source": [
    "def train_network(model, optimizer, criterion, data_train, labels_train, data_test, labels_test, num_epochs, train_losses, test_losses) :\n",
    "    for i in range(num_epochs) :\n",
    "        optimizer.zero_grad()\n",
    "        label_train = model.forward(data_train) # Pegando a previsão\n",
    "        loss_train = criterion(label_train, labels_train)\n",
    "        loss_train.backward()\n",
    "        optimizer.step()\n",
    "        \n",
    "        label_test = model(data_test)\n",
    "        loss_test = criterion(label_test, labels_test)\n",
    "        \n",
    "        train_losses.append(loss_train.detach().numpy())\n",
    "        test_losses.append(loss_test.detach().numpy())\n",
    "\n",
    "        if i%25 == 0 :\n",
    "            print(f'Época {i}, Erro de Treinamento : {loss_train}, Erro de Validação : {loss_test}')"
   ]
  },
  {
   "cell_type": "code",
   "execution_count": 556,
   "metadata": {},
   "outputs": [],
   "source": [
    "num_epochs = 500\n",
    "train_losses = []\n",
    "test_losses = []"
   ]
  },
  {
   "cell_type": "code",
   "execution_count": 557,
   "metadata": {},
   "outputs": [
    {
     "name": "stdout",
     "output_type": "stream",
     "text": [
      "Época 0, Erro de Treinamento : 15.299372673034668, Erro de Validação : 21.002939224243164\n",
      "Época 25, Erro de Treinamento : 1.0619539022445679, Erro de Validação : 1.0413144826889038\n",
      "Época 50, Erro de Treinamento : 0.824994683265686, Erro de Validação : 0.8209263682365417\n"
     ]
    },
    {
     "name": "stdout",
     "output_type": "stream",
     "text": [
      "Época 75, Erro de Treinamento : 0.7429043650627136, Erro de Validação : 0.719612717628479\n",
      "Época 100, Erro de Treinamento : 0.6606330871582031, Erro de Validação : 0.6416501402854919\n",
      "Época 125, Erro de Treinamento : 0.6002249717712402, Erro de Validação : 0.5925775766372681\n",
      "Época 150, Erro de Treinamento : 0.636623203754425, Erro de Validação : 0.6709652543067932\n",
      "Época 175, Erro de Treinamento : 0.5729057192802429, Erro de Validação : 0.5557002425193787\n",
      "Época 200, Erro de Treinamento : 0.5302587151527405, Erro de Validação : 0.5237402319908142\n",
      "Época 225, Erro de Treinamento : 0.5127739906311035, Erro de Validação : 0.5134384036064148\n",
      "Época 250, Erro de Treinamento : 0.49472177028656006, Erro de Validação : 0.5176033973693848\n",
      "Época 275, Erro de Treinamento : 0.49205687642097473, Erro de Validação : 0.5019993782043457\n",
      "Época 300, Erro de Treinamento : 0.4727948009967804, Erro de Validação : 0.5201242566108704\n",
      "Época 325, Erro de Treinamento : 0.4713982045650482, Erro de Validação : 0.5405159592628479\n",
      "Época 350, Erro de Treinamento : 0.45985928177833557, Erro de Validação : 0.4789302349090576\n",
      "Época 375, Erro de Treinamento : 0.4405839145183563, Erro de Validação : 0.4911341369152069\n",
      "Época 400, Erro de Treinamento : 0.4346976578235626, Erro de Validação : 0.495991975069046\n",
      "Época 425, Erro de Treinamento : 0.43557029962539673, Erro de Validação : 0.4791625738143921\n",
      "Época 450, Erro de Treinamento : 0.41997280716896057, Erro de Validação : 0.465188592672348\n",
      "Época 475, Erro de Treinamento : 0.40355896949768066, Erro de Validação : 0.4798586666584015\n"
     ]
    }
   ],
   "source": [
    "train_network(rna, optimizer, criterion, data_train, labels_train_onehot, data_test, labels_test_onehot, num_epochs, train_losses, test_losses)"
   ]
  },
  {
   "cell_type": "code",
   "execution_count": 558,
   "metadata": {},
   "outputs": [
    {
     "data": {
      "image/png": "[encoded data removed]",
      "text/plain": [
       "<Figure size 500x500 with 1 Axes>"
      ]
     },
     "metadata": {},
     "output_type": "display_data"
    }
   ],
   "source": [
    "plt.figure(figsize=(5,5))\n",
    "plt.plot(train_losses, label='Erro de Treinamento')\n",
    "plt.plot(test_losses, label='Erro de Validação')\n",
    "plt.legend()\n",
    "plt.show()"
   ]
  },
  {
   "cell_type": "code",
   "execution_count": 560,
   "metadata": {},
   "outputs": [
    {
     "name": "stdout",
     "output_type": "stream",
     "text": [
      "----- Matriz de Confusão - Dados de Teste -----\n"
     ]
    },
    {
     "data": {
      "text/plain": [
       "array([[84,  3,  0],\n",
       "       [10, 74, 16],\n",
       "       [ 0, 16, 82]], dtype=int64)"
      ]
     },
     "execution_count": 560,
     "metadata": {},
     "output_type": "execute_result"
    }
   ],
   "source": [
    "class_predict_onehot = rna(data_test)\n",
    "class_predict = class_predict_onehot.argmax(axis=1)\n",
    "confusion_matriz = confusion_matrix(labels_test, class_predict, labels=range(3))\n",
    "print(\"----- Matriz de Confusão - Dados de Teste -----\")\n",
    "confusion_matriz"
   ]
  }
 ],
 "metadata": {
  "kernelspec": {
   "display_name": "Python 3",
   "language": "python",
   "name": "python3"
  },
  "language_info": {
   "codemirror_mode": {
    "name": "ipython",
    "version": 3
   },
   "file_extension": ".py",
   "mimetype": "text/x-python",
   "name": "python",
   "nbconvert_exporter": "python",
   "pygments_lexer": "ipython3",
   "version": "3.11.1"
  }
 },
 "nbformat": 4,
 "nbformat_minor": 2
}
