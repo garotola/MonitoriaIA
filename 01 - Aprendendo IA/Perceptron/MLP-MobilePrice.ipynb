{
 "cells": [
  {
   "cell_type": "code",
   "execution_count": 687,
   "metadata": {},
   "outputs": [],
   "source": [
    "# Bibliotecas\n",
    "import numpy as np\n",
    "import pandas as pd\n",
    "import matplotlib.pyplot as plt \n",
    "import torch\n",
    "import torch.nn.functional as F\n",
    "from sklearn.model_selection import train_test_split\n",
    "from sklearn.metrics import confusion_matrix\n",
    "from sklearn.metrics import multilabel_confusion_matrix\n",
    "from sklearn.metrics import precision_score, recall_score, f1_score, accuracy_score\n",
    "from sklearn.metrics import precision_recall_fscore_support\n",
    "from sklearn.metrics import classification_report\n",
    "from tensorflow.keras.utils import to_categorical\n",
    "from torch import nn"
   ]
  },
  {
   "cell_type": "code",
   "execution_count": 688,
   "metadata": {},
   "outputs": [],
   "source": [
    "# Carregando dados\n",
    "inputData = pd.read_csv('./Datasets/mobile/train.csv')\n",
    "data = inputData.drop('price_range', axis=1)\n",
    "labels = inputData['price_range']"
   ]
  },
  {
   "cell_type": "code",
   "execution_count": 689,
   "metadata": {},
   "outputs": [],
   "source": [
    "# Dividir para treinamento e validação\n",
    "data = data.values\n",
    "labels = labels.values\n",
    "data_train, data_test, labels_train, labels_test = train_test_split(data, labels, test_size=0.2, random_state=123)\n",
    "data_train, data_validation, labels_train, labels_validation =train_test_split(data_train, labels_train, test_size=0.2)"
   ]
  },
  {
   "cell_type": "code",
   "execution_count": null,
   "metadata": {},
   "outputs": [],
   "source": []
  },
  {
   "cell_type": "code",
   "execution_count": 690,
   "metadata": {},
   "outputs": [],
   "source": [
    "#One hot encoding\n",
    "labels_train_onehot = to_categorical(labels_train)\n",
    "labels_test_onehot = to_categorical(labels_test)\n",
    "labels_validation_onehot = to_categorical(labels_validation)"
   ]
  },
  {
   "cell_type": "code",
   "execution_count": null,
   "metadata": {},
   "outputs": [],
   "source": []
  },
  {
   "cell_type": "code",
   "execution_count": 691,
   "metadata": {},
   "outputs": [],
   "source": [
    "data_train = torch.FloatTensor(data_train)\n",
    "data_test = torch.FloatTensor(data_test)\n",
    "labels_train = torch.FloatTensor(labels_train)\n",
    "labels_test = torch.FloatTensor(labels_test)\n",
    "\n",
    "labels_train_onehot = torch.FloatTensor(labels_train_onehot)\n",
    "labels_test_onehot = torch.FloatTensor(labels_test_onehot)\n",
    "labels_validation_onehot = torch.FloatTensor(labels_validation_onehot)\n",
    "\n",
    "data_validation = torch.FloatTensor(data_validation)\n",
    "labels_validation = torch.FloatTensor(labels_validation)\n"
   ]
  },
  {
   "cell_type": "code",
   "execution_count": 692,
   "metadata": {},
   "outputs": [],
   "source": [
    "# Rede Neural\n",
    "class MobilePriceClassifier(nn.Module) :\n",
    "    def __init__(self, input_size = 20, hidden_size1 = 20, hidden_size2 = 40, hidden_size3 = 20, hidden_size4 = 10, output_size=4) :\n",
    "        super().__init__()\n",
    "        self.layer1 = nn.Linear(input_size, hidden_size1)\n",
    "        self.layer2 = nn.Linear(hidden_size1, hidden_size2)\n",
    "        self.layer3 = nn.Linear(hidden_size2, hidden_size3)\n",
    "        self.layer4 = nn.Linear(hidden_size3, hidden_size4)\n",
    "        self.layer5 = nn.Linear(hidden_size4, output_size)\n",
    "\n",
    "    def forward(self, data) :\n",
    "        data = F.relu(self.layer1(data))\n",
    "        data = F.relu(self.layer2(data))\n",
    "        data = F.relu(self.layer3(data))\n",
    "        data = F.relu(self.layer4(data))\n",
    "        data = self.layer5(data)\n",
    "        return data"
   ]
  },
  {
   "cell_type": "code",
   "execution_count": 693,
   "metadata": {},
   "outputs": [],
   "source": [
    "rna = MobilePriceClassifier()\n",
    "criterion = nn.CrossEntropyLoss()\n",
    "optimizer = torch.optim.Adam(rna.parameters(), lr=0.01)"
   ]
  },
  {
   "cell_type": "code",
   "execution_count": 694,
   "metadata": {},
   "outputs": [],
   "source": [
    "def train_network(model, optimizer, criterion, data_train, labels_train, data_test, labels_test, num_epochs, train_losses, test_losses) :\n",
    "    for i in range(num_epochs) :\n",
    "        optimizer.zero_grad()\n",
    "        label_train = model.forward(data_train) # Pegando a previsão\n",
    "        loss_train = criterion(label_train, labels_train)\n",
    "        loss_train.backward()\n",
    "        optimizer.step()\n",
    "        \n",
    "        label_test = model(data_test)\n",
    "        loss_test = criterion(label_test, labels_test)\n",
    "        \n",
    "        train_losses.append(loss_train.detach().numpy())\n",
    "        test_losses.append(loss_test.detach().numpy())\n",
    "\n",
    "        if i%100 == 0 :\n",
    "            print(f'Época {i}, Erro de Treinamento : {loss_train}, Erro de Validação : {loss_test}')"
   ]
  },
  {
   "cell_type": "code",
   "execution_count": 695,
   "metadata": {},
   "outputs": [],
   "source": [
    "num_epochs = 1000\n",
    "train_losses = []\n",
    "test_losses = []"
   ]
  },
  {
   "cell_type": "code",
   "execution_count": 696,
   "metadata": {},
   "outputs": [
    {
     "name": "stdout",
     "output_type": "stream",
     "text": [
      "Época 0, Erro de Treinamento : 9.118368148803711, Erro de Validação : 1.5280554294586182\n"
     ]
    },
    {
     "name": "stdout",
     "output_type": "stream",
     "text": [
      "Época 100, Erro de Treinamento : 0.6096462607383728, Erro de Validação : 0.6467950940132141\n",
      "Época 200, Erro de Treinamento : 0.5147233605384827, Erro de Validação : 0.6350958943367004\n",
      "Época 300, Erro de Treinamento : 0.45672255754470825, Erro de Validação : 0.5916107296943665\n",
      "Época 400, Erro de Treinamento : 0.438021183013916, Erro de Validação : 0.5667750835418701\n",
      "Época 500, Erro de Treinamento : 0.35204631090164185, Erro de Validação : 0.5244625806808472\n",
      "Época 600, Erro de Treinamento : 0.3259001672267914, Erro de Validação : 0.542354941368103\n",
      "Época 700, Erro de Treinamento : 0.38438743352890015, Erro de Validação : 0.6406605243682861\n",
      "Época 800, Erro de Treinamento : 0.3041643798351288, Erro de Validação : 0.4898112714290619\n",
      "Época 900, Erro de Treinamento : 0.24778464436531067, Erro de Validação : 0.4863186776638031\n"
     ]
    }
   ],
   "source": [
    "train_network(rna, optimizer, criterion, data_train, labels_train_onehot, data_validation, labels_validation_onehot, num_epochs, train_losses, test_losses)"
   ]
  },
  {
   "cell_type": "code",
   "execution_count": 697,
   "metadata": {},
   "outputs": [
    {
     "data": {
      "image/png": "[encoded data removed]",
      "text/plain": [
       "<Figure size 500x500 with 1 Axes>"
      ]
     },
     "metadata": {},
     "output_type": "display_data"
    }
   ],
   "source": [
    "plt.figure(figsize=(5,5))\n",
    "plt.plot(train_losses, label='Erro de Treinamento')\n",
    "plt.plot(test_losses, label='Erro de Validação')\n",
    "plt.legend()\n",
    "plt.show()"
   ]
  },
  {
   "cell_type": "code",
   "execution_count": 698,
   "metadata": {},
   "outputs": [
    {
     "name": "stdout",
     "output_type": "stream",
     "text": [
      "----- Matriz de Confusão - Dados de Teste -----\n"
     ]
    },
    {
     "data": {
      "text/plain": [
       "array([[84,  3,  0],\n",
       "       [10, 81,  9],\n",
       "       [ 0, 13, 97]], dtype=int64)"
      ]
     },
     "execution_count": 698,
     "metadata": {},
     "output_type": "execute_result"
    }
   ],
   "source": [
    "class_predict_onehot = rna(data_test)\n",
    "class_predict = class_predict_onehot.argmax(axis=1)\n",
    "confusion_matriz = confusion_matrix(labels_test, class_predict, labels=range(3))\n",
    "print(\"----- Matriz de Confusão - Dados de Teste -----\")\n",
    "confusion_matriz"
   ]
  },
  {
   "cell_type": "code",
   "execution_count": 699,
   "metadata": {},
   "outputs": [
    {
     "name": "stdout",
     "output_type": "stream",
     "text": [
      "-----Métricas no Geral------\n",
      "Precisão :  0.8747545609735163\n",
      "Revocação :  0.875\n",
      "F1 - Score:  0.8744674903158343\n",
      "Acurácia :  0.875\n"
     ]
    }
   ],
   "source": [
    "precision = precision_score(labels_test, class_predict, average='weighted', zero_division=1)\n",
    "recall_score = recall_score(labels_test, class_predict, average='weighted', zero_division=1)\n",
    "f1_score = f1_score(labels_test, class_predict, average='weighted', zero_division=1)\n",
    "accuracy_score = accuracy_score(labels_test, class_predict)\n",
    "\n",
    "print(\"-----Métricas no Geral------\")\n",
    "print(\"Precisão : \", precision)\n",
    "print(\"Revocação : \",  recall_score)\n",
    "print(\"F1 - Score: \", f1_score)\n",
    "print(\"Acurácia : \", accuracy_score)\n"
   ]
  },
  {
   "cell_type": "code",
   "execution_count": 700,
   "metadata": {},
   "outputs": [
    {
     "name": "stdout",
     "output_type": "stream",
     "text": [
      "-------Métricas para cada classe-------\n",
      "Acurácia :  [0.96551724 0.81       0.88181818]\n",
      "              precision    recall  f1-score   support\n",
      "\n",
      "         0.0       0.89      0.97      0.93        87\n",
      "         1.0       0.84      0.81      0.82       100\n",
      "         2.0       0.84      0.84      0.84       116\n",
      "         3.0       0.94      0.91      0.92        97\n",
      "\n",
      "    accuracy                           0.88       400\n",
      "   macro avg       0.88      0.88      0.88       400\n",
      "weighted avg       0.87      0.88      0.87       400\n",
      "\n"
     ]
    }
   ],
   "source": [
    "precision, recall_score, f1_score, support = precision_recall_fscore_support(labels_test, class_predict, zero_division=1)\n",
    "\n",
    "print(\"-------Métricas para cada classe-------\")\n",
    "confusion_matriz = confusion_matriz.astype('float') / confusion_matriz.sum(axis=1)[:, np.newaxis]\n",
    "accuracy_score = confusion_matriz.diagonal()\n",
    "\n",
    "\n",
    "print(\"Acurácia : \", accuracy_score)\n",
    "\n",
    "print(classification_report(labels_test, class_predict, zero_division=1))"
   ]
  }
 ],
 "metadata": {
  "kernelspec": {
   "display_name": "Python 3",
   "language": "python",
   "name": "python3"
  },
  "language_info": {
   "codemirror_mode": {
    "name": "ipython",
    "version": 3
   },
   "file_extension": ".py",
   "mimetype": "text/x-python",
   "name": "python",
   "nbconvert_exporter": "python",
   "pygments_lexer": "ipython3",
   "version": "3.11.1"
  }
 },
 "nbformat": 4,
 "nbformat_minor": 2
}
