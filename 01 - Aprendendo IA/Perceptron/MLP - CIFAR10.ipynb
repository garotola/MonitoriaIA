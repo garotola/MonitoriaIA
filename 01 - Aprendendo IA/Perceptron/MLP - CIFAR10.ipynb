{
 "cells": [
  {
   "cell_type": "code",
   "execution_count": 2,
   "metadata": {},
   "outputs": [],
   "source": [
    "# Importando Bibliotecas\n",
    "import os\n",
    "import torch\n",
    "import matplotlib.pyplot as plt\n",
    "from torchvision.datasets import CIFAR10"
   ]
  },
  {
   "cell_type": "code",
   "execution_count": 3,
   "metadata": {},
   "outputs": [],
   "source": [
    "DATA_DIR = './'\n",
    "CATEGORIES = ['Avião', 'Automóvel','Passáro','Gato','Cervo','Cachorro', 'Sapo', 'Cavalo', 'Navio', 'Caminhão']"
   ]
  },
  {
   "cell_type": "code",
   "execution_count": 10,
   "metadata": {},
   "outputs": [
    {
     "name": "stdout",
     "output_type": "stream",
     "text": [
      "Files already downloaded and verified\n",
      "Files already downloaded and verified\n"
     ]
    }
   ],
   "source": [
    "# Dados \n",
    "cifar10_train = CIFAR10(DATA_DIR, train=True, download=True)\n",
    "cifar10_test = CIFAR10(DATA_DIR, train=False, download=True)"
   ]
  },
  {
   "cell_type": "code",
   "execution_count": 5,
   "metadata": {},
   "outputs": [
    {
     "data": {
      "text/plain": [
       "(50000, 10000)"
      ]
     },
     "execution_count": 5,
     "metadata": {},
     "output_type": "execute_result"
    }
   ],
   "source": [
    "(len(cifar10_train), len(cifar10_test))"
   ]
  },
  {
   "cell_type": "code",
   "execution_count": 23,
   "metadata": {},
   "outputs": [],
   "source": [
    "import torchvision.transforms as tt\n",
    "prep_transform = tt.Compose([tt.ToTensor(), tt.Normalize(\n",
    "    (0.4914, 0.4822, 0.4465),\n",
    "    (0.2470, 0.2435, 0.2616)\n",
    ")])\n",
    "tensor_train = CIFAR10(DATA_DIR, train=True, download=False, transform=prep_transform)\n",
    "tensor_test = CIFAR10(DATA_DIR, train=False, download=False, transform=prep_transform)"
   ]
  },
  {
   "cell_type": "code",
   "execution_count": 24,
   "metadata": {},
   "outputs": [
    {
     "data": {
      "text/plain": [
       "torch.Size([3, 32, 32, 50000])"
      ]
     },
     "execution_count": 24,
     "metadata": {},
     "output_type": "execute_result"
    }
   ],
   "source": [
    "imgs = torch.stack([img_t for img_t, _ in tensor_train], dim=3)\n",
    "imgs.shape"
   ]
  },
  {
   "cell_type": "code",
   "execution_count": 21,
   "metadata": {},
   "outputs": [
    {
     "data": {
      "text/plain": [
       "tensor([0.4914, 0.4822, 0.4465])"
      ]
     },
     "execution_count": 21,
     "metadata": {},
     "output_type": "execute_result"
    }
   ],
   "source": [
    "imgs.view(3, -1).mean(dim=1) # Média das Cores"
   ]
  },
  {
   "cell_type": "code",
   "execution_count": 22,
   "metadata": {},
   "outputs": [
    {
     "data": {
      "text/plain": [
       "tensor([0.2470, 0.2435, 0.2616])"
      ]
     },
     "execution_count": 22,
     "metadata": {},
     "output_type": "execute_result"
    }
   ],
   "source": [
    "imgs.view(3, -1).std(dim=1) # Desvio Padrão das Cores"
   ]
  },
  {
   "cell_type": "code",
   "execution_count": 25,
   "metadata": {},
   "outputs": [],
   "source": [
    "from torch.utils.data import DataLoader\n",
    "batch_size = 64\n",
    "\n",
    "train_loader = DataLoader(tensor_train, batch_size=batch_size, shuffle=True)\n",
    "test_loader = DataLoader(tensor_test, batch_size=batch_size, shuffle=True)"
   ]
  },
  {
   "cell_type": "code",
   "execution_count": 27,
   "metadata": {},
   "outputs": [],
   "source": [
    "# Testando o MLP para classificar imagem\n",
    "\n",
    "from torch import nn\n",
    "\n",
    "class MLPClassifier(nn.Module) :\n",
    "    def __init__(self) :\n",
    "        super().__init__()\n",
    "\n",
    "        self.flatten = nn.Flatten()\n",
    "\n",
    "        self.layers = nn.Sequential(\n",
    "            nn.Linear(32 * 32 * 3, 256),\n",
    "            nn.ReLU(),\n",
    "            nn.Linear(256, 128),\n",
    "            nn.ReLU(),\n",
    "            nn.Linear(128,64),\n",
    "            nn.ReLU(),\n",
    "            nn.Linear(64, 10)\n",
    "        )\n",
    "\n",
    "    def forward(self, x) :\n",
    "        v = self.flatten(x)\n",
    "        return self.layers(v)"
   ]
  },
  {
   "cell_type": "code",
   "execution_count": 26,
   "metadata": {},
   "outputs": [
    {
     "name": "stdout",
     "output_type": "stream",
     "text": [
      "Rodando na cpu\n"
     ]
    }
   ],
   "source": [
    "device = \"cuda\" if torch.cuda.is_available() else \"cpu\"\n",
    "print(f'Rodando na {device}')"
   ]
  },
  {
   "cell_type": "code",
   "execution_count": 28,
   "metadata": {},
   "outputs": [],
   "source": [
    "model = MLPClassifier().to(device)"
   ]
  },
  {
   "cell_type": "code",
   "execution_count": 29,
   "metadata": {},
   "outputs": [],
   "source": [
    "optimizer = torch.optim.SGD(model.parameters(), lr=0.001)\n",
    "lossfunc = nn.CrossEntropyLoss() "
   ]
  },
  {
   "cell_type": "code",
   "execution_count": 30,
   "metadata": {},
   "outputs": [],
   "source": [
    "def train(model, dataloader, lossfunc, optimizer) :\n",
    "    model.train()\n",
    "    cumloss = 0.0\n",
    "    for imgs, labels in dataloader :\n",
    "        imgs, labels = imgs.to(device), labels.to(device)\n",
    "        pred = model(imgs)\n",
    "        loss = lossfunc(pred, labels)\n",
    "        optimizer.zero_grad()\n",
    "        loss.backward()\n",
    "        optimizer.step()\n",
    "    return cumloss / len(dataloader)\n",
    "\n",
    "def validate(model, dataloader, loss_func) : \n",
    "    model.eval()\n",
    "    cumloss = 0.0\n",
    "    with torch.no_grad() : \n",
    "        for imgs, labels in dataloader : \n",
    "            imgs, labels = imgs.to(device), labels.to(device)\n",
    "            pred = model(imgs)\n",
    "            loss = loss_func(pred, labels)\n",
    "            cumloss += loss.item()\n",
    "        return cumloss / len(dataloader)"
   ]
  },
  {
   "cell_type": "code",
   "execution_count": 31,
   "metadata": {},
   "outputs": [],
   "source": [
    "def plot_losses(losses):\n",
    "    fig = plt.figure(figsize=(13, 5))\n",
    "    ax = fig.gca()\n",
    "    for loss_name, loss_values in losses.items():  \n",
    "        ax.plot(loss_values, label=loss_name)\n",
    "    ax.legend(fontsize=\"16\")\n",
    "    ax.set_xlabel(\"Iteração\", fontsize=\"16\")\n",
    "    ax.set_ylabel(\"Perda\", fontsize=\"16\")\n",
    "    ax.set_title(\"Perdas vs Iterações\", fontsize=\"16\")"
   ]
  },
  {
   "cell_type": "code",
   "execution_count": null,
   "metadata": {},
   "outputs": [],
   "source": [
    "epochs = 31\n",
    "train_losses = []\n",
    "test_losses = []\n",
    "for t in range(epochs) :\n",
    "    train_loss = train(model, train_loader, lossfunc, optimizer)\n",
    "    train_losses.append(train_loss)\n",
    "    test_loss = validate(model, test_loader, lossfunc)\n",
    "    test_losses.append(test_loss)\n",
    "    if(t % 10 == 0) :\n",
    "        print(f\"[Época][{t}] - Erro de Treinamento : {train_loss} - Erro de Teste : {test_loss}\")\n",
    "    \n",
    "    "
   ]
  }
 ],
 "metadata": {
  "kernelspec": {
   "display_name": "Python 3",
   "language": "python",
   "name": "python3"
  },
  "language_info": {
   "codemirror_mode": {
    "name": "ipython",
    "version": 3
   },
   "file_extension": ".py",
   "mimetype": "text/x-python",
   "name": "python",
   "nbconvert_exporter": "python",
   "pygments_lexer": "ipython3",
   "version": "3.11.1"
  }
 },
 "nbformat": 4,
 "nbformat_minor": 2
}
