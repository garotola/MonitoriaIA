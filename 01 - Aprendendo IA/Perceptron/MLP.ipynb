{
 "cells": [
  {
   "cell_type": "markdown",
   "metadata": {},
   "source": [
    "# MLP (Multilayer Perceptron)\n",
    "\n",
    "- Obs : Dataset\" (conjunto de dados) se refere à base de dados que é usada para treinar, testar ou avaliar modelos de aprendizado de máquina ou algoritmos de análise de dados. \n",
    "\n",
    "## Backpropagation\n",
    "Durante o treinamento com o algoritmo backpropagation, a rede opera em uma sequência de dois passos. Primeiro, um padrão é apresentado à camada de entrada da rede. A atividade resultante flui através da rede, camada por camada, até que a resposta seja produzida pela camada de saída. No segundo passo, a saída obtida é comparada à saída desejada para esse padrão particular. Se esta não estiver correta, o erro é calculado. O erro é propagado a partir da camada de saída até a camada de entrada, e os pesos das conexões das unidades das camadas internas vão sendo modificados conforme o erro é retropropagado.\n",
    "\n",
    "## Fases\n",
    "- Treinamento\n",
    "- Teste\n",
    "- Overfitting"
   ]
  },
  {
   "cell_type": "markdown",
   "metadata": {},
   "source": [
    "# XOR "
   ]
  },
  {
   "cell_type": "code",
   "execution_count": 111,
   "metadata": {},
   "outputs": [],
   "source": [
    "#Perceptron (https://www.youtube.com/watch?v=fEukSrpDPH0&list=PLtQM10PgmGogjn0cikgWi8wpQUnV6ERkY&index=9)\n",
    "\n",
    "import numpy as np\n",
    "\n",
    "class Perceptron(object) :\n",
    "    def __init__(self, qtd_inputs, learning_rate = 0.5, num_epochs = 100, bias = 0) :\n",
    "        self.weights = np.zeros(qtd_inputs) # Cria um array de zeros com tamanho informado\n",
    "        self.num_inputs = qtd_inputs\n",
    "        self.num_epochs = num_epochs\n",
    "        self.learning_rate = learning_rate\n",
    "        self.bias = bias\n",
    "\n",
    "    # Grep - Função de Ativação\n",
    "    def activate(self, x) :\n",
    "        return 1 if x >= 0 else 0\n",
    "\n",
    "    # Produto Escalar\n",
    "    def predict(self, inputs) :\n",
    "        weighted_sum = np.dot(inputs, self.weights) + self.bias\n",
    "        return self.activate(weighted_sum)\n",
    "    \n",
    "    # Treinamento\n",
    "    def train(self, training_data, labels):\n",
    "        for _ in range(self.num_epochs):\n",
    "            for i in range(len(training_data)):\n",
    "                prediction = self.predict(training_data[i])\n",
    "                error = labels[i] - prediction\n",
    "                self.weights += self.learning_rate * error * training_data[i]\n",
    "                self.bias += self.learning_rate * error\n",
    "                "
   ]
  },
  {
   "cell_type": "code",
   "execution_count": 112,
   "metadata": {},
   "outputs": [
    {
     "name": "stdout",
     "output_type": "stream",
     "text": [
      "Input: [0. 0.], Prediction: 0\n",
      "Input: [0. 1.], Prediction: 1\n",
      "Input: [1. 0.], Prediction: 1\n",
      "Input: [1. 1.], Prediction: 0\n"
     ]
    }
   ],
   "source": [
    "datas = np.array([\n",
    "    [0.,0.],\n",
    "    [0.,1.],\n",
    "    [1.,0.],\n",
    "    [1.,1.]\n",
    "    ])\n",
    "\n",
    "labelsOR = np.array([0.,1.,1.,1.])\n",
    "labelsNAND = np.array([1.,1.,1.,0.])\n",
    "labelsAND = np.array([0.,0.,0.,1.])\n",
    "\n",
    "perceptronOR = Perceptron(qtd_inputs=2) \n",
    "perceptronNAND = Perceptron(qtd_inputs=2) \n",
    "perceptronAND = Perceptron(qtd_inputs=2)\n",
    "\n",
    "perceptronOR.train(datas, labelsOR)\n",
    "perceptronNAND.train(datas, labelsNAND)\n",
    "perceptronAND.train(datas, labelsAND)\n",
    "\n",
    "test_data = np.array([[0., 0.], [0., 1.], [1., 0.], [1., 1.]])\n",
    "for data_point in test_data:\n",
    "    predictionOR = perceptronOR.predict(data_point)\n",
    "    predictionNAND = perceptronNAND.predict(data_point)\n",
    "    listPredict = [predictionOR, predictionNAND]\n",
    "    print(f\"Input: {data_point}, Prediction: {perceptronAND.predict(listPredict)}\")"
   ]
  },
  {
   "cell_type": "markdown",
   "metadata": {},
   "source": [
    "# Pytorch\n",
    "Iris"
   ]
  },
  {
   "cell_type": "code",
   "execution_count": 113,
   "metadata": {},
   "outputs": [],
   "source": [
    "# Criando modelo de MLP\n",
    "\n",
    "import torch\n",
    "import torch.nn as nn\n",
    "import torch.nn.functional as F\n",
    "\n",
    "class Model(nn.Module) :\n",
    "\n",
    "    # 4 Entradas (4 Caracteristicas da Flor)\n",
    "    # 2 Camadas de Neuronios ()\n",
    "    # 3 Saidas (3 Classes de Flores)\n",
    "\n",
    "    def __init__(self, in_features=4, hiddenLayer1 = 8, hidderLayer2=9, out_features=3):\n",
    "        super().__init__()\n",
    "        self.fc1 = nn.Linear(in_features, hiddenLayer1)\n",
    "        self.fc2 = nn.Linear(hiddenLayer1, hidderLayer2)\n",
    "        self.output = nn.Linear(hidderLayer2, out_features)\n",
    "\n",
    "    def forward(self, x) :\n",
    "        x = F.relu(self.fc1(x))\n",
    "        x = F.relu(self.fc2(x))\n",
    "        x = self.output(x)\n",
    "        return x\n"
   ]
  },
  {
   "cell_type": "code",
   "execution_count": 114,
   "metadata": {},
   "outputs": [],
   "source": [
    "torch.manual_seed(41)\n",
    "model = Model()"
   ]
  },
  {
   "cell_type": "code",
   "execution_count": 115,
   "metadata": {},
   "outputs": [],
   "source": [
    "#Importando Biblioteca\n",
    "import pandas as pd\n",
    "import matplotlib.pyplot as plt\n",
    "%matplotlib inline"
   ]
  },
  {
   "cell_type": "code",
   "execution_count": 116,
   "metadata": {},
   "outputs": [
    {
     "data": {
      "text/html": [
       "<div>\n",
       "<style scoped>\n",
       "    .dataframe tbody tr th:only-of-type {\n",
       "        vertical-align: middle;\n",
       "    }\n",
       "\n",
       "    .dataframe tbody tr th {\n",
       "        vertical-align: top;\n",
       "    }\n",
       "\n",
       "    .dataframe thead th {\n",
       "        text-align: right;\n",
       "    }\n",
       "</style>\n",
       "<table border=\"1\" class=\"dataframe\">\n",
       "  <thead>\n",
       "    <tr style=\"text-align: right;\">\n",
       "      <th></th>\n",
       "      <th>sepal.length</th>\n",
       "      <th>sepal.width</th>\n",
       "      <th>petal.length</th>\n",
       "      <th>petal.width</th>\n",
       "      <th>variety</th>\n",
       "    </tr>\n",
       "  </thead>\n",
       "  <tbody>\n",
       "    <tr>\n",
       "      <th>0</th>\n",
       "      <td>5.1</td>\n",
       "      <td>3.5</td>\n",
       "      <td>1.4</td>\n",
       "      <td>0.2</td>\n",
       "      <td>Setosa</td>\n",
       "    </tr>\n",
       "    <tr>\n",
       "      <th>1</th>\n",
       "      <td>4.9</td>\n",
       "      <td>3.0</td>\n",
       "      <td>1.4</td>\n",
       "      <td>0.2</td>\n",
       "      <td>Setosa</td>\n",
       "    </tr>\n",
       "    <tr>\n",
       "      <th>2</th>\n",
       "      <td>4.7</td>\n",
       "      <td>3.2</td>\n",
       "      <td>1.3</td>\n",
       "      <td>0.2</td>\n",
       "      <td>Setosa</td>\n",
       "    </tr>\n",
       "    <tr>\n",
       "      <th>3</th>\n",
       "      <td>4.6</td>\n",
       "      <td>3.1</td>\n",
       "      <td>1.5</td>\n",
       "      <td>0.2</td>\n",
       "      <td>Setosa</td>\n",
       "    </tr>\n",
       "    <tr>\n",
       "      <th>4</th>\n",
       "      <td>5.0</td>\n",
       "      <td>3.6</td>\n",
       "      <td>1.4</td>\n",
       "      <td>0.2</td>\n",
       "      <td>Setosa</td>\n",
       "    </tr>\n",
       "  </tbody>\n",
       "</table>\n",
       "</div>"
      ],
      "text/plain": [
       "   sepal.length  sepal.width  petal.length  petal.width variety\n",
       "0           5.1          3.5           1.4          0.2  Setosa\n",
       "1           4.9          3.0           1.4          0.2  Setosa\n",
       "2           4.7          3.2           1.3          0.2  Setosa\n",
       "3           4.6          3.1           1.5          0.2  Setosa\n",
       "4           5.0          3.6           1.4          0.2  Setosa"
      ]
     },
     "execution_count": 116,
     "metadata": {},
     "output_type": "execute_result"
    }
   ],
   "source": [
    "# Carregando dados (Planilha)\n",
    "url = 'https://gist.githubusercontent.com/netj/8836201/raw/6f9306ad21398ea43cba4f7d537619d0e07d5ae3/iris.csv'\n",
    "df = pd.read_csv(url)\n",
    "df.head()"
   ]
  },
  {
   "cell_type": "code",
   "execution_count": 117,
   "metadata": {},
   "outputs": [
    {
     "data": {
      "text/html": [
       "<div>\n",
       "<style scoped>\n",
       "    .dataframe tbody tr th:only-of-type {\n",
       "        vertical-align: middle;\n",
       "    }\n",
       "\n",
       "    .dataframe tbody tr th {\n",
       "        vertical-align: top;\n",
       "    }\n",
       "\n",
       "    .dataframe thead th {\n",
       "        text-align: right;\n",
       "    }\n",
       "</style>\n",
       "<table border=\"1\" class=\"dataframe\">\n",
       "  <thead>\n",
       "    <tr style=\"text-align: right;\">\n",
       "      <th></th>\n",
       "      <th>sepal.length</th>\n",
       "      <th>sepal.width</th>\n",
       "      <th>petal.length</th>\n",
       "      <th>petal.width</th>\n",
       "      <th>variety</th>\n",
       "    </tr>\n",
       "  </thead>\n",
       "  <tbody>\n",
       "    <tr>\n",
       "      <th>0</th>\n",
       "      <td>5.1</td>\n",
       "      <td>3.5</td>\n",
       "      <td>1.4</td>\n",
       "      <td>0.2</td>\n",
       "      <td>0.0</td>\n",
       "    </tr>\n",
       "    <tr>\n",
       "      <th>1</th>\n",
       "      <td>4.9</td>\n",
       "      <td>3.0</td>\n",
       "      <td>1.4</td>\n",
       "      <td>0.2</td>\n",
       "      <td>0.0</td>\n",
       "    </tr>\n",
       "    <tr>\n",
       "      <th>2</th>\n",
       "      <td>4.7</td>\n",
       "      <td>3.2</td>\n",
       "      <td>1.3</td>\n",
       "      <td>0.2</td>\n",
       "      <td>0.0</td>\n",
       "    </tr>\n",
       "    <tr>\n",
       "      <th>3</th>\n",
       "      <td>4.6</td>\n",
       "      <td>3.1</td>\n",
       "      <td>1.5</td>\n",
       "      <td>0.2</td>\n",
       "      <td>0.0</td>\n",
       "    </tr>\n",
       "    <tr>\n",
       "      <th>4</th>\n",
       "      <td>5.0</td>\n",
       "      <td>3.6</td>\n",
       "      <td>1.4</td>\n",
       "      <td>0.2</td>\n",
       "      <td>0.0</td>\n",
       "    </tr>\n",
       "  </tbody>\n",
       "</table>\n",
       "</div>"
      ],
      "text/plain": [
       "   sepal.length  sepal.width  petal.length  petal.width  variety\n",
       "0           5.1          3.5           1.4          0.2      0.0\n",
       "1           4.9          3.0           1.4          0.2      0.0\n",
       "2           4.7          3.2           1.3          0.2      0.0\n",
       "3           4.6          3.1           1.5          0.2      0.0\n",
       "4           5.0          3.6           1.4          0.2      0.0"
      ]
     },
     "execution_count": 117,
     "metadata": {},
     "output_type": "execute_result"
    }
   ],
   "source": [
    "# Alterando dados categóricos para numéricos\n",
    "df['variety'] = df['variety'].replace('Setosa', 0.0)\n",
    "df['variety'] = df['variety'].replace('Versicolor', 1.0)\n",
    "df['variety'] = df['variety'].replace('Virginica', 2.0)\n",
    "df.head()"
   ]
  },
  {
   "cell_type": "code",
   "execution_count": 118,
   "metadata": {},
   "outputs": [],
   "source": [
    "# Dividindo Entradas e Labels\n",
    "x = df.drop('variety', axis=1) # Dados para Treinamento\n",
    "y = df['variety'] # Labels"
   ]
  },
  {
   "cell_type": "code",
   "execution_count": 119,
   "metadata": {},
   "outputs": [],
   "source": [
    "# Converter numeros para array\n",
    "x = x.values\n",
    "y = y.values"
   ]
  },
  {
   "cell_type": "code",
   "execution_count": 120,
   "metadata": {
    "collapsed": false
   },
   "outputs": [],
   "source": [
    "# Dividindo dados de treinamento e teste\n",
    "from sklearn.model_selection import train_test_split\n",
    "x_train, x_test, y_train, y_test = train_test_split(x, y, test_size=0.3, random_state=41)"
   ]
  },
  {
   "cell_type": "code",
   "execution_count": 121,
   "metadata": {},
   "outputs": [],
   "source": [
    "# Convertendo dados para tipos recomendaveis\n",
    "x_train = torch.FloatTensor(x_train)\n",
    "x_test = torch.FloatTensor(x_test)\n",
    "y_test = torch.LongTensor(y_test)\n",
    "y_train = torch.LongTensor(y_train)"
   ]
  },
  {
   "cell_type": "code",
   "execution_count": 122,
   "metadata": {},
   "outputs": [],
   "source": [
    "# Definindo criterio para mensurar o erro e Learning Rate \n",
    "criterion = nn.CrossEntropyLoss()\n",
    "optimizer = torch.optim.Adam(model.parameters(), lr=0.01)"
   ]
  },
  {
   "cell_type": "code",
   "execution_count": 123,
   "metadata": {},
   "outputs": [
    {
     "name": "stdout",
     "output_type": "stream",
     "text": [
      "Época 0 e Erro : 1.1271402835845947\n",
      "Época 10 e Erro : 1.0097346305847168\n",
      "Época 20 e Erro : 0.8131378889083862\n",
      "Época 30 e Erro : 0.576341450214386\n",
      "Época 40 e Erro : 0.38959288597106934\n",
      "Época 50 e Erro : 0.2617512047290802\n",
      "Época 60 e Erro : 0.17520231008529663\n",
      "Época 70 e Erro : 0.11824619024991989\n",
      "Época 80 e Erro : 0.08286359906196594\n",
      "Época 90 e Erro : 0.062110573053359985\n"
     ]
    }
   ],
   "source": [
    "# Treinando o modelo\n",
    "epochs = 100\n",
    "losses = []\n",
    "for i in range(epochs) :\n",
    "    y_pred = model.forward(x_train) # Pegando a previsão\n",
    "    loss = criterion(y_pred, y_train)\n",
    "    losses.append(loss.detach().numpy())\n",
    "\n",
    "    if i%10 == 0 :\n",
    "        print(f'Época {i} e Erro : {loss}')\n",
    "\n",
    "    optimizer.zero_grad()\n",
    "    loss.backward()\n",
    "    optimizer.step()"
   ]
  },
  {
   "cell_type": "code",
   "execution_count": 124,
   "metadata": {},
   "outputs": [
    {
     "data": {
      "text/plain": [
       "Text(0.5, 0, 'Épocas')"
      ]
     },
     "execution_count": 124,
     "metadata": {},
     "output_type": "execute_result"
    },
    {
     "data": {
      "image/png": "[encoded data removed]",
      "text/plain": [
       "<Figure size 640x480 with 1 Axes>"
      ]
     },
     "metadata": {},
     "output_type": "display_data"
    }
   ],
   "source": [
    "plt.plot(range(epochs), losses)\n",
    "plt.ylabel('Loss/Erro')\n",
    "plt.xlabel('Épocas')"
   ]
  },
  {
   "cell_type": "code",
   "execution_count": 125,
   "metadata": {},
   "outputs": [
    {
     "data": {
      "text/plain": [
       "array([[11,  0,  0],\n",
       "       [ 0, 16,  2],\n",
       "       [ 0,  0, 16]], dtype=int64)"
      ]
     },
     "execution_count": 125,
     "metadata": {},
     "output_type": "execute_result"
    }
   ],
   "source": [
    "# Matriz de Confusão\n",
    "from sklearn.metrics import confusion_matrix\n",
    "from sklearn.metrics import multilabel_confusion_matrix\n",
    "\n",
    "class_predict = model(x_test)\n",
    "class_predict = class_predict.argmax(axis=1)\n",
    "confusion_matriz = confusion_matrix(y_test, class_predict, labels=range(3))\n",
    "confusion_matriz"
   ]
  },
  {
   "cell_type": "code",
   "execution_count": 126,
   "metadata": {},
   "outputs": [],
   "source": [
    "# Métricas de Avaliação\n",
    "from sklearn.metrics import precision_score, recall_score, f1_score, accuracy_score\n",
    "from sklearn.metrics import precision_recall_fscore_support\n",
    "from sklearn.metrics import classification_report"
   ]
  },
  {
   "cell_type": "code",
   "execution_count": 127,
   "metadata": {},
   "outputs": [
    {
     "name": "stdout",
     "output_type": "stream",
     "text": [
      "-----Métricas no Geral------\n",
      "Precisão :  0.9604938271604938\n",
      "Revocação :  0.9555555555555556\n",
      "F1 - Score:  0.9555555555555556\n",
      "Acurácia :  0.9555555555555556\n"
     ]
    }
   ],
   "source": [
    "precision = precision_score(y_test, class_predict, average='weighted', zero_division=1)\n",
    "recall_score = recall_score(y_test, class_predict, average='weighted', zero_division=1)\n",
    "f1_score = f1_score(y_test, class_predict, average='weighted', zero_division=1)\n",
    "accuracy_score = accuracy_score(y_test, class_predict)\n",
    "\n",
    "print(\"-----Métricas no Geral------\")\n",
    "print(\"Precisão : \", precision)\n",
    "print(\"Revocação : \",  recall_score)\n",
    "print(\"F1 - Score: \", f1_score)\n",
    "print(\"Acurácia : \", accuracy_score)\n"
   ]
  },
  {
   "cell_type": "code",
   "execution_count": 135,
   "metadata": {},
   "outputs": [
    {
     "name": "stdout",
     "output_type": "stream",
     "text": [
      "-------Métricas para cada classe-------\n",
      "Acurácia :  [1.         0.88888889 1.        ]\n",
      "              precision    recall  f1-score   support\n",
      "\n",
      "           0       1.00      1.00      1.00        11\n",
      "           1       1.00      0.89      0.94        18\n",
      "           2       0.89      1.00      0.94        16\n",
      "\n",
      "    accuracy                           0.96        45\n",
      "   macro avg       0.96      0.96      0.96        45\n",
      "weighted avg       0.96      0.96      0.96        45\n",
      "\n"
     ]
    }
   ],
   "source": [
    "precision, recall_score, f1_score, support = precision_recall_fscore_support(y_test, class_predict, zero_division=1)\n",
    "\n",
    "print(\"-------Métricas para cada classe-------\")\n",
    "confusion_matriz = confusion_matriz.astype('float') / confusion_matriz.sum(axis=1)[:, np.newaxis]\n",
    "accuracy_score = confusion_matriz.diagonal()\n",
    "\n",
    "\n",
    "print(\"Acurácia : \", accuracy_score)\n",
    "\n",
    "print(classification_report(y_test, class_predict, zero_division=1))"
   ]
  },
  {
   "cell_type": "code",
   "execution_count": null,
   "metadata": {},
   "outputs": [],
   "source": []
  }
 ],
 "metadata": {
  "kernelspec": {
   "display_name": "Python 3",
   "language": "python",
   "name": "python3"
  },
  "language_info": {
   "codemirror_mode": {
    "name": "ipython",
    "version": 3
   },
   "file_extension": ".py",
   "mimetype": "text/x-python",
   "name": "python",
   "nbconvert_exporter": "python",
   "pygments_lexer": "ipython3",
   "version": "3.11.1"
  }
 },
 "nbformat": 4,
 "nbformat_minor": 2
}
