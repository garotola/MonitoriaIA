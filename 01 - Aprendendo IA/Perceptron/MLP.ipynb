{
 "cells": [
  {
   "cell_type": "markdown",
   "metadata": {},
   "source": [
    "# MLP (Multilayer Perceptron)\n",
    "\n",
    "- Obs : Dataset\" (conjunto de dados) se refere à base de dados que é usada para treinar, testar ou avaliar modelos de aprendizado de máquina ou algoritmos de análise de dados. "
   ]
  },
  {
   "cell_type": "markdown",
   "metadata": {},
   "source": [
    "# XOR "
   ]
  },
  {
   "cell_type": "code",
   "execution_count": 1,
   "metadata": {},
   "outputs": [],
   "source": [
    "#Perceptron (https://www.youtube.com/watch?v=fEukSrpDPH0&list=PLtQM10PgmGogjn0cikgWi8wpQUnV6ERkY&index=9)\n",
    "\n",
    "import numpy as np\n",
    "\n",
    "class Perceptron(object) :\n",
    "    def __init__(self, qtd_inputs, learning_rate = 0.5, num_epochs = 100, bias = 0) :\n",
    "        self.weights = np.zeros(qtd_inputs) # Cria um array de zeros com tamanho informado\n",
    "        self.num_inputs = qtd_inputs\n",
    "        self.num_epochs = num_epochs\n",
    "        self.learning_rate = learning_rate\n",
    "        self.bias = bias\n",
    "\n",
    "    # Grep - Função de Ativação\n",
    "    def activate(self, x) :\n",
    "        return 1 if x >= 0 else 0\n",
    "\n",
    "    # Produto Escalar\n",
    "    def predict(self, inputs) :\n",
    "        weighted_sum = np.dot(inputs, self.weights) + self.bias\n",
    "        return self.activate(weighted_sum)\n",
    "    \n",
    "    # Treinamento\n",
    "    def train(self, training_data, labels):\n",
    "        for _ in range(self.num_epochs):\n",
    "            for i in range(len(training_data)):\n",
    "                prediction = self.predict(training_data[i])\n",
    "                error = labels[i] - prediction\n",
    "                self.weights += self.learning_rate * error * training_data[i]\n",
    "                self.bias += self.learning_rate * error\n",
    "                "
   ]
  },
  {
   "cell_type": "code",
   "execution_count": 10,
   "metadata": {},
   "outputs": [
    {
     "name": "stdout",
     "output_type": "stream",
     "text": [
      "-1.5\n",
      "Input: [0. 0.], Prediction: 0\n",
      "Input: [0. 1.], Prediction: 1\n",
      "Input: [1. 0.], Prediction: 1\n",
      "Input: [1. 1.], Prediction: 0\n"
     ]
    }
   ],
   "source": [
    "datas = np.array([\n",
    "    [0.,0.],\n",
    "    [0.,1.],\n",
    "    [1.,0.],\n",
    "    [1.,1.]\n",
    "    ])\n",
    "\n",
    "labelsOR = np.array([0.,1.,1.,1.])\n",
    "labelsNAND = np.array([1.,1.,1.,0.])\n",
    "labelsAND = np.array([0.,0.,0.,1.])\n",
    "\n",
    "perceptronOR = Perceptron(qtd_inputs=2) \n",
    "perceptronNAND = Perceptron(qtd_inputs=2) \n",
    "perceptronAND = Perceptron(qtd_inputs=2)\n",
    "\n",
    "perceptronOR.train(datas, labelsOR)\n",
    "perceptronNAND.train(datas, labelsNAND)\n",
    "perceptronAND.train(datas, labelsAND)\n",
    "\n",
    "test_data = np.array([[0., 0.], [0., 1.], [1., 0.], [1., 1.]])\n",
    "for data_point in test_data:\n",
    "    predictionOR = perceptronOR.predict(data_point)\n",
    "    predictionNAND = perceptronNAND.predict(data_point)\n",
    "    listPredict = [predictionOR, predictionNAND]\n",
    "    print(f\"Input: {data_point}, Prediction: {perceptronAND.predict(listPredict)}\")"
   ]
  }
 ],
 "metadata": {
  "kernelspec": {
   "display_name": "Python 3",
   "language": "python",
   "name": "python3"
  },
  "language_info": {
   "codemirror_mode": {
    "name": "ipython",
    "version": 3
   },
   "file_extension": ".py",
   "mimetype": "text/x-python",
   "name": "python",
   "nbconvert_exporter": "python",
   "pygments_lexer": "ipython3",
   "version": "3.11.1"
  }
 },
 "nbformat": 4,
 "nbformat_minor": 2
}
